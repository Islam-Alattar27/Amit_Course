{
 "cells": [
  {
   "cell_type": "markdown",
   "metadata": {
    "slideshow": {
     "slide_type": "notes"
    }
   },
   "source": [
    "## Write a Python program to find all unique words and count the frequency  of occurrence from a given list of strings:"
   ]
  },
  {
   "cell_type": "code",
   "execution_count": null,
   "metadata": {},
   "outputs": [
    {
     "name": "stdout",
     "output_type": "stream",
     "text": [
      "{'Islam': 3, 'Mai': 1, 'Eman': 2, 'Malak': 1}\n"
     ]
    }
   ],
   "source": [
    "def count_word(strings):\n",
    "    word_counts = {}\n",
    "    for string in strings:\n",
    "        words = string.split()\n",
    "        for word in words:\n",
    "            word_counts[word] = word_counts.get(word, 0) + 1\n",
    "    return word_counts\n",
    "\n",
    "strings = [\"Islam\",\"Mai\",\"Eman\",\"Malak\",\"Islam\",\"Eman\",\"Islam\"]\n",
    "word_counts = count_word(strings)\n",
    "\n",
    "print(word_counts)"
   ]
  },
  {
   "cell_type": "code",
   "execution_count": null,
   "metadata": {},
   "outputs": [
    {
     "name": "stdout",
     "output_type": "stream",
     "text": [
      "{'islam': 3, 'mai': 1, 'eman': 2, 'malak': 1}\n"
     ]
    }
   ],
   "source": [
    "def count_words(string_list):\n",
    "    word_count = {}\n",
    "\n",
    "    for string in string_list:\n",
    "        words = string.split()\n",
    "        for word in words:\n",
    "            word = word.lower()\n",
    "            if word in word_count:\n",
    "                word_count[word] += 1\n",
    "            else:\n",
    "                word_count[word] = 1\n",
    "\n",
    "    return word_count\n",
    "\n",
    "strings = [\"Islam\",\"Mai\",\"Eman\",\"Malak\",\"Islam\",\"Eman\",\"Islam\"]\n",
    "\n",
    "word_counts = count_words(strings)\n",
    "print(word_counts)"
   ]
  }
 ],
 "metadata": {
  "kernelspec": {
   "display_name": "Python 3",
   "language": "python",
   "name": "python3"
  },
  "language_info": {
   "codemirror_mode": {
    "name": "ipython",
    "version": 3
   },
   "file_extension": ".py",
   "mimetype": "text/x-python",
   "name": "python",
   "nbconvert_exporter": "python",
   "pygments_lexer": "ipython3",
   "version": "3.13.0"
  }
 },
 "nbformat": 4,
 "nbformat_minor": 2
}
