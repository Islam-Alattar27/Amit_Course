{
 "cells": [
  {
   "cell_type": "markdown",
   "metadata": {},
   "source": [
    "## Task 1 :Write a Python program to create a calculator class. Include methods for basic arithmetic operations"
   ]
  },
  {
   "cell_type": "code",
   "execution_count": null,
   "metadata": {},
   "outputs": [],
   "source": [
    "class Calculator:\n",
    "    def __init__(self, num1, num2):\n",
    "        self.num1 = num1\n",
    "        self.num2 = num2\n",
    "\n",
    "    def add(self):\n",
    "        return self.num1 + self.num2\n",
    "\n",
    "    def subtract(self):\n",
    "        return self.num1 - self.num2\n",
    "\n",
    "    def multiply(self):\n",
    "        return self.num1 * self.num2\n",
    "\n",
    "    def divide(self):\n",
    "        if self.num2 == 0:\n",
    "            return \"Error: Can not division by zero\"\n",
    "        else:\n",
    "            return self.num1 / self.num2\n",
    "\n",
    "c = Calculator(10, 5)\n",
    "print(\"Addition:\", c.add())\n",
    "print(\"Subtraction:\", c.subtract())\n",
    "print(\"Multiplication:\", c.multiply())\n",
    "print(\"Division:\", c.divide())"
   ]
  },
  {
   "cell_type": "markdown",
   "metadata": {},
   "source": [
    "Task 2: Rectangle class:\n",
    "1. Write a Rectangle class in Python language, allowing you to build a rectangle with length and width \n",
    "attributes.\n",
    "2. Create a Perimeter() method to calculate the perimeter of the rectangle and a Area() method to \n",
    "calculate the area of the rectangle. \n",
    "3. Create a method display() that display the length, width, perimeter and area of an object created \n",
    "using an instantiation on rectangle class.\n",
    "4. Create a Parallelepipede child class inheriting from the Rectangle class and with a height attribute \n",
    "and another Volume() method to calculate the volume of the Parallelepiped.\n"
   ]
  },
  {
   "cell_type": "code",
   "execution_count": 2,
   "metadata": {},
   "outputs": [
    {
     "name": "stdout",
     "output_type": "stream",
     "text": [
      "Length: 2\n",
      "Width: 7\n",
      "Perimeter: 18\n",
      "Area: 14\n",
      "Volume: 14\n"
     ]
    }
   ],
   "source": [
    "class Rectangle:\n",
    "    def __init__(self, length, width):\n",
    "        self.length = length\n",
    "        self.width = width\n",
    "\n",
    "    def perimeter(self):\n",
    "        return 2 * (self.length + self.width)\n",
    "\n",
    "    def area(self):\n",
    "        return self.length * self.width \n",
    "\n",
    "    def display(self):\n",
    "        print(\"Length:\", self.length)\n",
    "        print(\"Width:\", self.width)\n",
    "        print(\"Perimeter:\", self.perimeter())\n",
    "        print(\"Area:\", self.area())\n",
    "\n",
    "class Parallelepiped(Rectangle):\n",
    "    def __init__(self, length, width, height):\n",
    "        super().__init__(length, width)\n",
    "        self.height = height\n",
    "\n",
    "    def volume(self):\n",
    "        return self.length * self.width * self.height \n",
    "\n",
    "\n",
    "r = Rectangle(2, 7)\n",
    "r.display()\n",
    "\n",
    "p = Parallelepiped(1, 2, 7)\n",
    "print(\"Volume:\", p.volume())"
   ]
  },
  {
   "cell_type": "markdown",
   "metadata": {},
   "source": [
    "Task 3: Person class and child Student class\n",
    "Create a Python class Person with attributes: name and age of type string. \n",
    "1. Create a display() method that displays the name and age of an object created via the Person class. \n",
    "2. Create a child class Student which inherits from the Person class and which also has a section \n",
    "attribute. \n",
    "3. Create a method displayStudent() that displays the name, age and section of an object created via the \n",
    "Student class. \n",
    "4. Create a student object via an instantiation on the Student class and then test the displayStudent \n",
    "method."
   ]
  },
  {
   "cell_type": "code",
   "execution_count": null,
   "metadata": {},
   "outputs": [
    {
     "name": "stdout",
     "output_type": "stream",
     "text": [
      "Name: Islam\n",
      "Age: 20\n",
      "Section: Sec3\n"
     ]
    }
   ],
   "source": [
    "class Person:\n",
    "    def __init__(self, name, age):\n",
    "        self.name = name\n",
    "        self.age = age\n",
    "\n",
    "    def display(self):\n",
    "        print(\"Name:\", self.name)\n",
    "        print(\"Age:\", self.age)\n",
    "\n",
    "class Student(Person):\n",
    "    def __init__(self, name, age, section):\n",
    "        super().__init__(name, age)\n",
    "        self.section = section\n",
    "\n",
    "    def displayStudent(self):\n",
    "        print(\"Name:\", self.name)\n",
    "        print(\"Age:\", self.age)\n",
    "        print(\"Section:\", self.section)\n",
    "\n",
    "# Example usage:\n",
    "s = Student(\"Islam\", 20, \"Sec3\")\n",
    "s.displayStudent()"
   ]
  }
 ],
 "metadata": {
  "kernelspec": {
   "display_name": "Python 3",
   "language": "python",
   "name": "python3"
  },
  "language_info": {
   "codemirror_mode": {
    "name": "ipython",
    "version": 3
   },
   "file_extension": ".py",
   "mimetype": "text/x-python",
   "name": "python",
   "nbconvert_exporter": "python",
   "pygments_lexer": "ipython3",
   "version": "3.13.0"
  }
 },
 "nbformat": 4,
 "nbformat_minor": 2
}
