{
 "cells": [
  {
   "cell_type": "markdown",
   "metadata": {},
   "source": [
    "1. Write a NumPy program to test whether none of the elements of a given array is zero."
   ]
  },
  {
   "cell_type": "code",
   "execution_count": 5,
   "metadata": {},
   "outputs": [
    {
     "name": "stdout",
     "output_type": "stream",
     "text": [
      "Array 1: [1 2 3 4 5]\n",
      "Are all elements of Array 1 non-zero-> True\n",
      "\n",
      "Array 2: [0 2 3 4 5]\n",
      "Are all elements of Array 2 non-zero-> False\n",
      "\n",
      "Array 3: [-1  2 -3  4 -5]\n",
      "Are all elements of Array 3 non-zero-> True\n"
     ]
    }
   ],
   "source": [
    "import numpy as np\n",
    "\n",
    "arr1 = np.array([1, 2, 3, 4, 5])\n",
    "arr2 = np.array([0, 2, 3, 4, 5])\n",
    "arr3 = np.array([-1, 2, -3, 4, -5])  \n",
    "\n",
    "\n",
    "print(f\"Array 1: {arr1}\")\n",
    "print(f\"Are all elements of Array 1 non-zero-> {np.all(arr1)}\") \n",
    "\n",
    "print(f\"\\nArray 2: {arr2}\")\n",
    "print(f\"Are all elements of Array 2 non-zero-> {np.all(arr2)}\") \n",
    "\n",
    "print(f\"\\nArray 3: {arr3}\")\n",
    "print(f\"Are all elements of Array 3 non-zero-> {np.all(arr3)}\") "
   ]
  },
  {
   "cell_type": "markdown",
   "metadata": {},
   "source": [
    "2. Write a NumPy program to test whether any of the elements of a given array is non-zero."
   ]
  },
  {
   "cell_type": "code",
   "execution_count": 7,
   "metadata": {},
   "outputs": [
    {
     "name": "stdout",
     "output_type": "stream",
     "text": [
      "Array 1: [0 0 0 0 0]\n",
      "Are all elements of Array 1 non-zero-> False\n",
      "\n",
      "Array 2: [0 0 1 0 0]\n",
      "Are all elements of Array 2 non-zero-> True\n",
      "\n",
      "Array 3: [-1  0 -3  0 -5]\n",
      "Are all elements of Array 3 non-zero-> True\n"
     ]
    }
   ],
   "source": [
    "import numpy as np\n",
    "\n",
    "arr1 = np.array([0, 0, 0, 0, 0])\n",
    "arr2 = np.array([0, 0, 1, 0, 0])\n",
    "arr3 = np.array([-1, 0, -3, 0, -5])\n",
    "\n",
    "\n",
    "print(f\"Array 1: {arr1}\")\n",
    "print(f\"Are all elements of Array 1 non-zero-> {np.any(arr1)}\") \n",
    "\n",
    "print(f\"\\nArray 2: {arr2}\")\n",
    "print(f\"Are all elements of Array 2 non-zero-> {np.any(arr2)}\") \n",
    "\n",
    "print(f\"\\nArray 3: {arr3}\")\n",
    "print(f\"Are all elements of Array 3 non-zero-> {np.any(arr3)}\") "
   ]
  },
  {
   "cell_type": "markdown",
   "metadata": {},
   "source": [
    "3. Write a NumPy program to create an element-wise comparison (equal, equal within a tolerance) of two\n",
    "given"
   ]
  },
  {
   "cell_type": "code",
   "execution_count": 15,
   "metadata": {},
   "outputs": [
    {
     "name": "stdout",
     "output_type": "stream",
     "text": [
      "Exact equality comparison:\n",
      " [ True False  True  True False]\n",
      "Equality within tolerance comparison:\n",
      " [ True  True  True  True  True]\n"
     ]
    }
   ],
   "source": [
    "import numpy as np\n",
    "\n",
    "array1 = np.array([1.0, 2.0, 3.0, 4.0, 5.0])\n",
    "array2 = np.array([1.0, 2.1, 3.0, 4.0, 5.1])\n",
    "\n",
    "# comparison for  equality\n",
    "exact_equal = array1 == array2\n",
    "\n",
    "print(\"Exact equality comparison:\\n\", exact_equal)\n",
    "\n",
    "\n",
    "# comparison for tolerance\n",
    "tolerance = 0.5\n",
    "close_equal = np.isclose(array1, array2, atol=tolerance)\n",
    "\n",
    "print(\"Equality within tolerance comparison:\\n\", close_equal)"
   ]
  },
  {
   "cell_type": "markdown",
   "metadata": {},
   "source": [
    "4. Write a NumPy program to create an array of 10 zeros,10 ones, 10 fives."
   ]
  },
  {
   "cell_type": "code",
   "execution_count": 16,
   "metadata": {},
   "outputs": [
    {
     "name": "stdout",
     "output_type": "stream",
     "text": [
      "Array of 10 zeros, 10 ones, and 10 fives:\n",
      " [0. 0. 0. 0. 0. 0. 0. 0. 0. 0. 1. 1. 1. 1. 1. 1. 1. 1. 1. 1. 5. 5. 5. 5.\n",
      " 5. 5. 5. 5. 5. 5.]\n"
     ]
    }
   ],
   "source": [
    "import numpy as np\n",
    "\n",
    "z_arr = np.zeros(10)\n",
    "o_arr = np.ones(10)\n",
    "f_arr = np.full(10, 5)  \n",
    "\n",
    "final_array = np.concatenate((z_arr, o_arr, f_arr))\n",
    "\n",
    "print(\"The final resalte array\", final_array)"
   ]
  },
  {
   "cell_type": "code",
   "execution_count": 18,
   "metadata": {},
   "outputs": [
    {
     "data": {
      "text/plain": [
       "array([0, 1, 5, 0, 1, 5, 0, 1, 5, 0, 1, 5, 0, 1, 5, 0, 1, 5, 0, 1, 5, 0,\n",
       "       1, 5, 0, 1, 5, 0, 1, 5])"
      ]
     },
     "execution_count": 18,
     "metadata": {},
     "output_type": "execute_result"
    }
   ],
   "source": [
    "np.tile([0, 1, 5], 10)"
   ]
  },
  {
   "cell_type": "code",
   "execution_count": 19,
   "metadata": {},
   "outputs": [
    {
     "data": {
      "text/plain": [
       "array([0, 1, 5, 0, 1, 5, 0, 1, 5, 0, 1, 5, 0, 1, 5, 0, 1, 5, 0, 1, 5, 0,\n",
       "       1, 5, 0, 1, 5, 0, 1, 5])"
      ]
     },
     "execution_count": 19,
     "metadata": {},
     "output_type": "execute_result"
    }
   ],
   "source": [
    "np.tile([0, 1, 5], 10).reshape(30)"
   ]
  },
  {
   "cell_type": "code",
   "execution_count": 21,
   "metadata": {},
   "outputs": [
    {
     "data": {
      "text/plain": [
       "array([0, 0, 0, 0, 0, 0, 0, 0, 0, 0, 1, 1, 1, 1, 1, 1, 1, 1, 1, 1, 5, 5,\n",
       "       5, 5, 5, 5, 5, 5, 5, 5])"
      ]
     },
     "execution_count": 21,
     "metadata": {},
     "output_type": "execute_result"
    }
   ],
   "source": [
    "np.array([0] * 10 + [1] * 10 + [5] * 10)"
   ]
  },
  {
   "cell_type": "markdown",
   "metadata": {},
   "source": [
    "5. Write a NumPy program to create an array of the integers from 30 to70."
   ]
  },
  {
   "cell_type": "code",
   "execution_count": 31,
   "metadata": {},
   "outputs": [
    {
     "name": "stdout",
     "output_type": "stream",
     "text": [
      "\n",
      "Method 1 (range):\n",
      " [30 31 32 33 34 35 36 37 38 39 40 41 42 43 44 45 46 47 48 49 50 51 52 53\n",
      " 54 55 56 57 58 59 60 61 62 63 64 65 66 67 68 69 70]\n",
      "\n",
      "Method 2 (linspace):\n",
      " [30 31 33 34 36 37 39 40 42 43 45 46 48 50 51 53 54 56 57 59 60 62 63 65\n",
      " 66 68 70]\n",
      "\n",
      "Method 3 (array and range):\n",
      " [30 31 32 33 34 35 36 37 38 39 40 41 42 43 44 45 46 47 48 49 50 51 52 53\n",
      " 54 55 56 57 58 59 60 61 62 63 64 65 66 67 68 69 70]\n",
      "\n",
      "Method 4 (For and range):\n",
      " [30 31 32 33 34 35 36 37 38 39 40 41 42 43 44 45 46 47 48 49 50 51 52 53\n",
      " 54 55 56 57 58 59 60 61 62 63 64 65 66 67 68 69 70]\n"
     ]
    }
   ],
   "source": [
    "import numpy as np\n",
    "\n",
    "arr1 = np.arange(30, 71)  \n",
    "print(\"\\nMethod 1 (range):\\n\",arr1)\n",
    "\n",
    "\n",
    "arr2 = np.linspace(30, 70, 27, dtype=int) \n",
    "print(\"\\nMethod 2 (linspace):\\n\", arr2)\n",
    "\n",
    "\n",
    "arr3 = np.array(range(30, 71))\n",
    "print(\"\\nMethod 3 (array and range):\\n\", arr3)\n",
    "\n",
    "arr4 = np.array([i for i in range(30, 71)])\n",
    "print(\"\\nMethod 4 (For and range):\\n\", arr4)"
   ]
  },
  {
   "cell_type": "markdown",
   "metadata": {},
   "source": [
    "6. Write a NumPy program to create a 3x3 identity matrix"
   ]
  },
  {
   "cell_type": "code",
   "execution_count": 36,
   "metadata": {},
   "outputs": [
    {
     "name": "stdout",
     "output_type": "stream",
     "text": [
      "Method 1 (np.eye):\n",
      " [[1. 0. 0.]\n",
      " [0. 1. 0.]\n",
      " [0. 0. 1.]]\n",
      "\n",
      "Method 2 (np.identity):\n",
      " [[1. 0. 0.]\n",
      " [0. 1. 0.]\n",
      " [0. 0. 1.]]\n",
      "\n",
      "Method 3 (manual creation):\n",
      " [[1 0 0]\n",
      " [0 1 0]\n",
      " [0 0 1]]\n",
      "\n",
      "Method 4 (np.diag):\n",
      " [[1 0 0]\n",
      " [0 1 0]\n",
      " [0 0 1]]\n"
     ]
    }
   ],
   "source": [
    "import numpy as np\n",
    "\n",
    "identity_matrix1 = np.eye(3)\n",
    "print(\"Method 1 (np.eye):\\n\", identity_matrix1)\n",
    "\n",
    "\n",
    "identity_matrix2 = np.identity(3)\n",
    "print(\"\\nMethod 2 (np.identity):\\n\", identity_matrix2)\n",
    "\n",
    "\n",
    "identity_matrix3 = np.array([[1, 0, 0],\n",
    "                             [0, 1, 0],\n",
    "                             [0, 0, 1]])\n",
    "print(\"\\nMethod 3 (manual creation):\\n\", identity_matrix3)\n",
    "\n",
    "\n",
    "\n",
    "identity_matrix4 = np.diag([1, 1, 1])\n",
    "print(\"\\nMethod 4 (np.diag):\\n\", identity_matrix4)"
   ]
  },
  {
   "cell_type": "markdown",
   "metadata": {},
   "source": [
    "7. Write a NumPy program to generate a random number between 0 and 1"
   ]
  },
  {
   "cell_type": "code",
   "execution_count": 49,
   "metadata": {},
   "outputs": [
    {
     "name": "stdout",
     "output_type": "stream",
     "text": [
      "Method 1 (np.random.rand()): 0.8477489498287387\n",
      "\n",
      "Method 2 (np.random.random_sample()): 0.6961267155751825\n",
      "\n",
      "Method 3 (np.random.uniform()): 0.09620544016659416\n",
      "\n",
      "Method 4 (random.random()): 0.18512296368260628\n"
     ]
    }
   ],
   "source": [
    "import numpy as np\n",
    "import random as r\n",
    "\n",
    "\n",
    "random_number1 = np.random.rand()\n",
    "print(\"Method 1 (np.random.rand()):\", random_number1)\n",
    "\n",
    "\n",
    "random_number2 = np.random.random_sample()\n",
    "print(\"\\nMethod 2 (np.random.random_sample()):\", random_number2)\n",
    "\n",
    "\n",
    "random_number3 = np.random.uniform(0, 1)\n",
    "print(\"\\nMethod 3 (np.random.uniform()):\", random_number3)\n",
    "\n",
    "\n",
    "random_number4 = r.random()\n",
    "print(\"\\nMethod 4 (random.random()):\", random_number4)"
   ]
  },
  {
   "cell_type": "markdown",
   "metadata": {},
   "source": [
    "8. Write a NumPy program to generate an array of 15 random numbers from a standard normal distribution"
   ]
  },
  {
   "cell_type": "code",
   "execution_count": 51,
   "metadata": {},
   "outputs": [
    {
     "name": "stdout",
     "output_type": "stream",
     "text": [
      "Method 1 (np.random.randn):\n",
      " [ 1.09062393 -0.86753157  1.03776274  1.49513649  0.41053281  0.10264982\n",
      "  0.34876146 -0.34229307 -0.18213274 -2.01652733 -1.06145842 -0.45822636\n",
      " -1.11174207  0.48794674  1.41912798]\n",
      "\n",
      "Method 2 (np.random.normal):\n",
      " [ 2.48147974  0.06602984 -1.04878894  0.70428947 -1.77793583  0.54556439\n",
      "  0.66396356 -0.10078503 -0.20815387  0.1198388   0.16266411 -0.20163017\n",
      " -0.52980898 -1.05473722 -0.44014854]\n"
     ]
    }
   ],
   "source": [
    "import numpy as np\n",
    "\n",
    "\n",
    "random_array1 = np.random.randn(15)  \n",
    "print(\"Method 1 (np.random.randn):\\n\", random_array1)\n",
    "\n",
    "random_array2 = np.random.normal(0, 1, 15)\n",
    "print(\"\\nMethod 2 (np.random.normal):\\n\", random_array2)"
   ]
  },
  {
   "cell_type": "markdown",
   "metadata": {},
   "source": [
    "9. Write a NumPy program to create a vector with values ranging from 15 to 55 and print all values except the first and last."
   ]
  },
  {
   "cell_type": "code",
   "execution_count": 62,
   "metadata": {},
   "outputs": [
    {
     "name": "stdout",
     "output_type": "stream",
     "text": [
      "Original vector:\n",
      " [15 16 17 18 19 20 21 22 23 24 25 26 27 28 29 30 31 32 33 34 35 36 37 38\n",
      " 39 40 41 42 43 44 45 46 47 48 49 50 51 52 53 54 55 56]\n",
      "\n",
      "Values except first and last (Method 1):\n",
      " [16 17 18 19 20 21 22 23 24 25 26 27 28 29 30 31 32 33 34 35 36 37 38 39\n",
      " 40 41 42 43 44 45 46 47 48 49 50 51 52 53 54 55]\n",
      "\n",
      "Original vector:\n",
      " [15 16 17 18 19 20 21 22 23 24 25 26 27 28 29 30 31 32 33 34 36 37 38 39\n",
      " 40 41 42 43 44 45 46 47 48 49 50 51 52 53 54 55 57]\n",
      "\n",
      "Values except first and last (Method 2):\n",
      " [16 17 18 19 20 21 22 23 24 25 26 27 28 29 30 31 32 33 34 36 37 38 39 40\n",
      " 41 42 43 44 45 46 47 48 49 50 51 52 53 54 55]\n",
      "\n",
      "Original vector:\n",
      " [15 16 17 18 19 20 21 22 23 24 25 26 27 28 29 30 31 32 33 34 35 36 37 38\n",
      " 39 40 41 42 43 44 45 46 47 48 49 50 51 52 53 54 55 56]\n",
      "\n",
      "Values except first and last (Method 3):\n",
      " [16 17 18 19 20 21 22 23 24 25 26 27 28 29 30 31 32 33 34 35 36 37 38 39\n",
      " 40 41 42 43 44 45 46 47 48 49 50 51 52 53 54 55]\n"
     ]
    }
   ],
   "source": [
    "import numpy as np\n",
    "\n",
    "my_vector = np.arange(15, 57)\n",
    "print(\"Original vector:\\n\", my_vector)\n",
    "\n",
    "print(\"\\nValues except first and last (Method 1):\\n\", my_vector[1:-1])\n",
    "\n",
    "\n",
    "my_vector2 = np.linspace(15, 57, 41, dtype=int)\n",
    "print(\"\\nOriginal vector:\\n\", my_vector2)\n",
    "\n",
    "print(\"\\nValues except first and last (Method 2):\\n\", my_vector2[1:-1])\n",
    "\n",
    "\n",
    "\n",
    "my_vector3 = np.arange(15, 57)\n",
    "print(\"\\nOriginal vector:\\n\", my_vector3)\n",
    "\n",
    "new_vector = my_vector3[1:len(my_vector3)-1] \n",
    "print(\"\\nValues except first and last (Method 3):\\n\", new_vector)"
   ]
  },
  {
   "cell_type": "markdown",
   "metadata": {},
   "source": [
    "10. Write a NumPy program to create a vector of length 5 filled with arbitrary integers from 0 to 10"
   ]
  },
  {
   "cell_type": "code",
   "execution_count": 66,
   "metadata": {},
   "outputs": [
    {
     "name": "stdout",
     "output_type": "stream",
     "text": [
      "Method 1 (np.random.randint):\n",
      " [ 1  1  8  9 10]\n",
      "\n",
      "Method 2 (np.random.choice):\n",
      " [ 1  6  0 10  5]\n"
     ]
    }
   ],
   "source": [
    "import numpy as np\n",
    "\n",
    "\n",
    "random_vector1 = np.random.randint(0, 11, 5)  \n",
    "print(\"Method 1 (np.random.randint):\\n\", random_vector1)\n",
    "\n",
    "\n",
    "random_vector2 = np.random.choice(11, 5)\n",
    "print(\"\\nMethod 2 (np.random.choice):\\n\", random_vector2)\n"
   ]
  },
  {
   "cell_type": "markdown",
   "metadata": {},
   "source": [
    "11. Write a NumPy program to create a 10x10 matrix, in which the elements on the borders will be equal\n",
    "to 1, and inside 0."
   ]
  },
  {
   "cell_type": "code",
   "execution_count": 69,
   "metadata": {},
   "outputs": [
    {
     "name": "stdout",
     "output_type": "stream",
     "text": [
      "[[1. 1. 1. 1. 1. 1. 1. 1. 1. 1.]\n",
      " [1. 0. 0. 0. 0. 0. 0. 0. 0. 1.]\n",
      " [1. 0. 0. 0. 0. 0. 0. 0. 0. 1.]\n",
      " [1. 0. 0. 0. 0. 0. 0. 0. 0. 1.]\n",
      " [1. 0. 0. 0. 0. 0. 0. 0. 0. 1.]\n",
      " [1. 0. 0. 0. 0. 0. 0. 0. 0. 1.]\n",
      " [1. 0. 0. 0. 0. 0. 0. 0. 0. 1.]\n",
      " [1. 0. 0. 0. 0. 0. 0. 0. 0. 1.]\n",
      " [1. 0. 0. 0. 0. 0. 0. 0. 0. 1.]\n",
      " [1. 1. 1. 1. 1. 1. 1. 1. 1. 1.]]\n"
     ]
    }
   ],
   "source": [
    "import numpy as np\n",
    "\n",
    "matrix = np.zeros((10, 10))\n",
    "\n",
    "matrix[0, :] = 1          \n",
    "matrix[-1, :] = 1        \n",
    "matrix[:, 0] = 1          \n",
    "matrix[:, -1] = 1         \n",
    "\n",
    "print( matrix)"
   ]
  },
  {
   "cell_type": "markdown",
   "metadata": {},
   "source": [
    "12. Write a NumPy program to create a 5x5 zero matrix with elements on the main diagonal equal to 1, 2,\n",
    "3, 4, 5."
   ]
  },
  {
   "cell_type": "code",
   "execution_count": 80,
   "metadata": {},
   "outputs": [
    {
     "name": "stdout",
     "output_type": "stream",
     "text": [
      "Method 1 (diag):\n",
      " [[1 0 0 0 0]\n",
      " [0 2 0 0 0]\n",
      " [0 0 3 0 0]\n",
      " [0 0 0 4 0]\n",
      " [0 0 0 0 5]]\n",
      "\n",
      "Method 3 (eye and multiplication):\n",
      " [[1. 0. 0. 0. 0.]\n",
      " [0. 2. 0. 0. 0.]\n",
      " [0. 0. 3. 0. 0.]\n",
      " [0. 0. 0. 4. 0.]\n",
      " [0. 0. 0. 0. 5.]]\n"
     ]
    }
   ],
   "source": [
    "import numpy as np\n",
    "\n",
    "\n",
    "matrix1 = np.diag([1, 2, 3, 4, 5])\n",
    "print(\"Method 1 (diag):\\n\", matrix1)\n",
    "\n",
    "\n",
    "matrix3 = np.eye(5) * [1,2,3,4,5]\n",
    "print(\"\\nMethod 2 (eye and multiplication):\\n\", matrix3)\n",
    "\n",
    "\n",
    "matrix = np.zeros((5, 5))\n",
    "np.fill_diagonal(matrix, [1, 2, 3, 4, 5])\n",
    "print(\"Method 3 fill_diagonal elements 1, 2, 3, 4, 5:\\n\", matrix)"
   ]
  },
  {
   "cell_type": "markdown",
   "metadata": {},
   "source": [
    "13. Write a NumPy program to create a 4x4 matrix in which 0 and 1 are staggered, with zeros on the main\n",
    "diagonal."
   ]
  },
  {
   "cell_type": "code",
   "execution_count": 84,
   "metadata": {},
   "outputs": [
    {
     "name": "stdout",
     "output_type": "stream",
     "text": [
      "Method 1 (array creation and slicing):\n",
      " [[0 1 0 1]\n",
      " [1 0 1 0]\n",
      " [0 1 0 1]\n",
      " [1 0 1 0]]\n"
     ]
    }
   ],
   "source": [
    "import numpy as np\n",
    "\n",
    "\n",
    "matrix1 = np.zeros((4, 4), dtype=int)  \n",
    "matrix1[::2, 1::2] = 1  \n",
    "matrix1[1::2, ::2] = 1 \n",
    "\n",
    "print(\"Method 1 (array creation and slicing):\\n\", matrix1)"
   ]
  },
  {
   "cell_type": "markdown",
   "metadata": {},
   "source": [
    "14. Write a NumPy program to save two given arrays into a single file in compressed format (.npz format)\n",
    "and load it."
   ]
  },
  {
   "cell_type": "code",
   "execution_count": 85,
   "metadata": {},
   "outputs": [
    {
     "name": "stdout",
     "output_type": "stream",
     "text": [
      "Loaded Array 1: [1 2 3 4 5]\n",
      "Loaded Array 2: [ 6  7  8  9 10]\n"
     ]
    }
   ],
   "source": [
    "import numpy as np\n",
    "\n",
    "array1 = np.array([1, 2, 3, 4, 5])\n",
    "array2 = np.array([6, 7, 8, 9, 10])\n",
    "\n",
    "np.savez_compressed('arrays.npz', arr1=array1, arr2=array2)\n",
    "\n",
    "\n",
    "loaded_data = np.load('arrays.npz')\n",
    "\n",
    "\n",
    "loaded_array1 = loaded_data['arr1']\n",
    "loaded_array2 = loaded_data['arr2']\n",
    "\n",
    "\n",
    "print(\"Loaded Array 1:\", loaded_array1)\n",
    "print(\"Loaded Array 2:\", loaded_array2)"
   ]
  },
  {
   "cell_type": "markdown",
   "metadata": {},
   "source": [
    "15. Write a NumPy program to create a one-dimensional array of forty pseudo-randomly generated values.\n",
    "Select"
   ]
  },
  {
   "cell_type": "code",
   "execution_count": 87,
   "metadata": {},
   "outputs": [
    {
     "name": "stdout",
     "output_type": "stream",
     "text": [
      "Method 1 (np.random.rand):\n",
      " [0.95155461 0.45119014 0.64770472 0.47218657 0.43436147 0.80380996\n",
      " 0.39453282 0.06847285 0.10992589 0.56960763 0.07411232 0.8357964\n",
      " 0.3857958  0.99626771 0.68709737 0.10130454 0.02075787 0.05225225\n",
      " 0.15926636 0.1401191  0.41916799 0.43761618 0.23526618 0.71660893\n",
      " 0.31278083 0.34803004 0.92962879 0.03008335 0.18566098 0.37988402\n",
      " 0.59899917 0.67870718 0.77969241 0.77377064 0.17264105 0.57644087\n",
      " 0.7333306  0.27253939 0.30478853 0.4706309 ]\n",
      "\n",
      "Method 2 (np.random.randn):\n",
      " [ 1.52193625 -2.57669198 -0.94577683 -1.31995572 -0.11612687 -0.70877583\n",
      " -1.616243    0.78531898  1.18693974 -0.93893667 -1.2794878   1.17021973\n",
      "  0.7428471  -0.52958014 -0.70058832  1.71799195 -2.4406789   1.85816946\n",
      " -0.62527031 -0.64647023 -0.06531202  0.82870709 -0.16323617 -0.96372577\n",
      "  1.05829047  0.48478617 -1.22465401  0.40765918  0.19125372  0.62613817\n",
      "  1.81520958 -0.15030737  0.05218383  0.04696576 -0.11630198  0.46322071\n",
      "  0.87877955 -1.04384602 -1.06841809 -0.09125985]\n",
      "\n",
      "Method 3 (np.random.randint):\n",
      " [22 69 49 32 54 67 77 93 73 62 24 16 35 20 35 13 93 47 25 76 83 38 24 75\n",
      " 21 28 83 61 63 43 23  7 18  0 46 33 69 24  6 29]\n"
     ]
    }
   ],
   "source": [
    "import numpy as np\n",
    "\n",
    "\n",
    "random_array1 = np.random.rand(40)\n",
    "print(\"Method 1 (np.random.rand):\\n\", random_array1)\n",
    "\n",
    "\n",
    "random_array2 = np.random.randn(40)\n",
    "print(\"\\nMethod 2 (np.random.randn):\\n\", random_array2)\n",
    "\n",
    "\n",
    "random_array3 = np.random.randint(0, 100, 40)\n",
    "print(\"\\nMethod 3 (np.random.randint):\\n\", random_array3)"
   ]
  },
  {
   "cell_type": "markdown",
   "metadata": {},
   "source": [
    "16. Write a NumPy program to extract all numbers from a given array which are less and greater than a\n",
    "specified number."
   ]
  },
  {
   "cell_type": "code",
   "execution_count": 93,
   "metadata": {},
   "outputs": [
    {
     "name": "stdout",
     "output_type": "stream",
     "text": [
      "Numbers less than 50 : [10 20 30 40]\n",
      "Numbers greater than 50 : [ 50  60  70  80  90 100]\n"
     ]
    }
   ],
   "source": [
    "import numpy as np\n",
    "\n",
    "arr = np.array([10, 20, 30, 40, 50, 60, 70, 80, 90, 100])\n",
    "\n",
    "specified_number = 50\n",
    "\n",
    "\n",
    "less_than = arr[arr < specified_number]\n",
    "\n",
    "# Extract numbers greater than the specified number\n",
    "greater_than = arr[arr >= specified_number]\n",
    "\n",
    "\n",
    "print(\"Numbers less than 50 :\", less_than)\n",
    "print(\"Numbers greater than 50 :\", greater_than)"
   ]
  }
 ],
 "metadata": {
  "kernelspec": {
   "display_name": "Python 3",
   "language": "python",
   "name": "python3"
  },
  "language_info": {
   "codemirror_mode": {
    "name": "ipython",
    "version": 3
   },
   "file_extension": ".py",
   "mimetype": "text/x-python",
   "name": "python",
   "nbconvert_exporter": "python",
   "pygments_lexer": "ipython3",
   "version": "3.13.0"
  }
 },
 "nbformat": 4,
 "nbformat_minor": 2
}
