{
 "cells": [
  {
   "cell_type": "code",
   "execution_count": 1577,
   "metadata": {},
   "outputs": [],
   "source": [
    "import numpy as np\n",
    "import pandas as pd\n",
    "import matplotlib.pyplot as plt\n",
    "import seaborn as sns\n",
    "from xgboost import XGBRegressor\n",
    "from sklearn.svm import SVC\n",
    "from sklearn.model_selection import train_test_split,GridSearchCV\n",
    "from sklearn.linear_model import  SGDRegressor,LinearRegression\n",
    "from sklearn.metrics import mean_absolute_error,r2_score,mean_squared_error\n",
    "from sklearn.preprocessing import StandardScaler, OneHotEncoder,LabelEncoder\n",
    "from sklearn.impute import SimpleImputer\n",
    "from sklearn.pipeline import Pipeline\n",
    "from sklearn.compose import ColumnTransformer\n",
    "from sklearn.tree import  DecisionTreeRegressor\n",
    "from sklearn.ensemble import RandomForestRegressor,GradientBoostingRegressor\n",
    "import warnings\n",
    "warnings.filterwarnings(\"ignore\")"
   ]
  },
  {
   "cell_type": "code",
   "execution_count": 1578,
   "metadata": {},
   "outputs": [],
   "source": [
    "df=pd.read_csv(\"train.csv\")"
   ]
  },
  {
   "cell_type": "code",
   "execution_count": 1579,
   "metadata": {},
   "outputs": [
    {
     "data": {
      "text/html": [
       "<div>\n",
       "<style scoped>\n",
       "    .dataframe tbody tr th:only-of-type {\n",
       "        vertical-align: middle;\n",
       "    }\n",
       "\n",
       "    .dataframe tbody tr th {\n",
       "        vertical-align: top;\n",
       "    }\n",
       "\n",
       "    .dataframe thead th {\n",
       "        text-align: right;\n",
       "    }\n",
       "</style>\n",
       "<table border=\"1\" class=\"dataframe\">\n",
       "  <thead>\n",
       "    <tr style=\"text-align: right;\">\n",
       "      <th></th>\n",
       "      <th>ID</th>\n",
       "      <th>date</th>\n",
       "      <th>meals_served</th>\n",
       "      <th>kitchen_staff</th>\n",
       "      <th>temperature_C</th>\n",
       "      <th>humidity_percent</th>\n",
       "      <th>day_of_week</th>\n",
       "      <th>special_event</th>\n",
       "      <th>past_waste_kg</th>\n",
       "      <th>staff_experience</th>\n",
       "      <th>waste_category</th>\n",
       "      <th>food_waste_kg</th>\n",
       "    </tr>\n",
       "  </thead>\n",
       "  <tbody>\n",
       "    <tr>\n",
       "      <th>906</th>\n",
       "      <td>1044</td>\n",
       "      <td>2022-03-29</td>\n",
       "      <td>395</td>\n",
       "      <td>18</td>\n",
       "      <td>17.354199</td>\n",
       "      <td>45.138435</td>\n",
       "      <td>1</td>\n",
       "      <td>0</td>\n",
       "      <td>40.550668</td>\n",
       "      <td>Intermediate</td>\n",
       "      <td>GRAINS</td>\n",
       "      <td>50.369152</td>\n",
       "    </tr>\n",
       "    <tr>\n",
       "      <th>907</th>\n",
       "      <td>1045</td>\n",
       "      <td>2022-11-27</td>\n",
       "      <td>483</td>\n",
       "      <td>11</td>\n",
       "      <td>24.912137</td>\n",
       "      <td>59.485091</td>\n",
       "      <td>6</td>\n",
       "      <td>0</td>\n",
       "      <td>36.470276</td>\n",
       "      <td>intermediate</td>\n",
       "      <td>dairy</td>\n",
       "      <td>43.070121</td>\n",
       "    </tr>\n",
       "    <tr>\n",
       "      <th>908</th>\n",
       "      <td>1046</td>\n",
       "      <td>2023-04-12</td>\n",
       "      <td>243</td>\n",
       "      <td>11</td>\n",
       "      <td>28.870945</td>\n",
       "      <td>70.508404</td>\n",
       "      <td>2</td>\n",
       "      <td>0</td>\n",
       "      <td>19.767203</td>\n",
       "      <td>Intermediate</td>\n",
       "      <td>MeAt</td>\n",
       "      <td>29.632560</td>\n",
       "    </tr>\n",
       "    <tr>\n",
       "      <th>909</th>\n",
       "      <td>1048</td>\n",
       "      <td>2022-02-14</td>\n",
       "      <td>406</td>\n",
       "      <td>10</td>\n",
       "      <td>19.061638</td>\n",
       "      <td>55.286642</td>\n",
       "      <td>0</td>\n",
       "      <td>0</td>\n",
       "      <td>28.560361</td>\n",
       "      <td>EXPERT</td>\n",
       "      <td>MEAT</td>\n",
       "      <td>44.615759</td>\n",
       "    </tr>\n",
       "    <tr>\n",
       "      <th>910</th>\n",
       "      <td>1049</td>\n",
       "      <td>2024-05-10</td>\n",
       "      <td>350</td>\n",
       "      <td>6</td>\n",
       "      <td>23.708015</td>\n",
       "      <td>51.351286</td>\n",
       "      <td>4</td>\n",
       "      <td>0</td>\n",
       "      <td>46.786860</td>\n",
       "      <td>intermediate</td>\n",
       "      <td>Vegetables</td>\n",
       "      <td>57.066481</td>\n",
       "    </tr>\n",
       "  </tbody>\n",
       "</table>\n",
       "</div>"
      ],
      "text/plain": [
       "       ID        date  meals_served  kitchen_staff  temperature_C  \\\n",
       "906  1044  2022-03-29           395             18      17.354199   \n",
       "907  1045  2022-11-27           483             11      24.912137   \n",
       "908  1046  2023-04-12           243             11      28.870945   \n",
       "909  1048  2022-02-14           406             10      19.061638   \n",
       "910  1049  2024-05-10           350              6      23.708015   \n",
       "\n",
       "     humidity_percent  day_of_week  special_event  past_waste_kg  \\\n",
       "906         45.138435            1              0      40.550668   \n",
       "907         59.485091            6              0      36.470276   \n",
       "908         70.508404            2              0      19.767203   \n",
       "909         55.286642            0              0      28.560361   \n",
       "910         51.351286            4              0      46.786860   \n",
       "\n",
       "    staff_experience waste_category  food_waste_kg  \n",
       "906     Intermediate         GRAINS      50.369152  \n",
       "907     intermediate          dairy      43.070121  \n",
       "908     Intermediate           MeAt      29.632560  \n",
       "909           EXPERT           MEAT      44.615759  \n",
       "910     intermediate     Vegetables      57.066481  "
      ]
     },
     "execution_count": 1579,
     "metadata": {},
     "output_type": "execute_result"
    }
   ],
   "source": [
    "df.tail()"
   ]
  },
  {
   "cell_type": "code",
   "execution_count": 1580,
   "metadata": {},
   "outputs": [
    {
     "data": {
      "text/html": [
       "<div>\n",
       "<style scoped>\n",
       "    .dataframe tbody tr th:only-of-type {\n",
       "        vertical-align: middle;\n",
       "    }\n",
       "\n",
       "    .dataframe tbody tr th {\n",
       "        vertical-align: top;\n",
       "    }\n",
       "\n",
       "    .dataframe thead th {\n",
       "        text-align: right;\n",
       "    }\n",
       "</style>\n",
       "<table border=\"1\" class=\"dataframe\">\n",
       "  <thead>\n",
       "    <tr style=\"text-align: right;\">\n",
       "      <th></th>\n",
       "      <th>ID</th>\n",
       "      <th>date</th>\n",
       "      <th>meals_served</th>\n",
       "      <th>kitchen_staff</th>\n",
       "      <th>temperature_C</th>\n",
       "      <th>humidity_percent</th>\n",
       "      <th>day_of_week</th>\n",
       "      <th>special_event</th>\n",
       "      <th>past_waste_kg</th>\n",
       "      <th>staff_experience</th>\n",
       "      <th>waste_category</th>\n",
       "      <th>food_waste_kg</th>\n",
       "    </tr>\n",
       "  </thead>\n",
       "  <tbody>\n",
       "    <tr>\n",
       "      <th>0</th>\n",
       "      <td>0</td>\n",
       "      <td>2022-12-19</td>\n",
       "      <td>196</td>\n",
       "      <td>13</td>\n",
       "      <td>27.887273</td>\n",
       "      <td>45.362854</td>\n",
       "      <td>0</td>\n",
       "      <td>0</td>\n",
       "      <td>7.740587</td>\n",
       "      <td>intermediate</td>\n",
       "      <td>dairy</td>\n",
       "      <td>28.946465</td>\n",
       "    </tr>\n",
       "    <tr>\n",
       "      <th>1</th>\n",
       "      <td>1</td>\n",
       "      <td>2023-11-21</td>\n",
       "      <td>244</td>\n",
       "      <td>15</td>\n",
       "      <td>10.317872</td>\n",
       "      <td>64.430475</td>\n",
       "      <td>1</td>\n",
       "      <td>0</td>\n",
       "      <td>42.311779</td>\n",
       "      <td>NaN</td>\n",
       "      <td>MeAt</td>\n",
       "      <td>51.549053</td>\n",
       "    </tr>\n",
       "    <tr>\n",
       "      <th>2</th>\n",
       "      <td>4</td>\n",
       "      <td>2022-02-01</td>\n",
       "      <td>148</td>\n",
       "      <td>16</td>\n",
       "      <td>27.714300</td>\n",
       "      <td>69.046113</td>\n",
       "      <td>1</td>\n",
       "      <td>0</td>\n",
       "      <td>41.184305</td>\n",
       "      <td>Beginner</td>\n",
       "      <td>MeAt</td>\n",
       "      <td>53.008323</td>\n",
       "    </tr>\n",
       "    <tr>\n",
       "      <th>3</th>\n",
       "      <td>5</td>\n",
       "      <td>2023-03-19</td>\n",
       "      <td>157</td>\n",
       "      <td>19</td>\n",
       "      <td>19.173902</td>\n",
       "      <td>46.292823</td>\n",
       "      <td>6</td>\n",
       "      <td>0</td>\n",
       "      <td>41.543492</td>\n",
       "      <td>Beginner</td>\n",
       "      <td>MeAt</td>\n",
       "      <td>48.621527</td>\n",
       "    </tr>\n",
       "    <tr>\n",
       "      <th>4</th>\n",
       "      <td>6</td>\n",
       "      <td>2022-07-18</td>\n",
       "      <td>297</td>\n",
       "      <td>10</td>\n",
       "      <td>26.375233</td>\n",
       "      <td>79.741064</td>\n",
       "      <td>0</td>\n",
       "      <td>0</td>\n",
       "      <td>26.525097</td>\n",
       "      <td>Intermediate</td>\n",
       "      <td>MEAT</td>\n",
       "      <td>44.156984</td>\n",
       "    </tr>\n",
       "  </tbody>\n",
       "</table>\n",
       "</div>"
      ],
      "text/plain": [
       "   ID        date  meals_served  kitchen_staff  temperature_C  \\\n",
       "0   0  2022-12-19           196             13      27.887273   \n",
       "1   1  2023-11-21           244             15      10.317872   \n",
       "2   4  2022-02-01           148             16      27.714300   \n",
       "3   5  2023-03-19           157             19      19.173902   \n",
       "4   6  2022-07-18           297             10      26.375233   \n",
       "\n",
       "   humidity_percent  day_of_week  special_event  past_waste_kg  \\\n",
       "0         45.362854            0              0       7.740587   \n",
       "1         64.430475            1              0      42.311779   \n",
       "2         69.046113            1              0      41.184305   \n",
       "3         46.292823            6              0      41.543492   \n",
       "4         79.741064            0              0      26.525097   \n",
       "\n",
       "  staff_experience waste_category  food_waste_kg  \n",
       "0     intermediate          dairy      28.946465  \n",
       "1              NaN           MeAt      51.549053  \n",
       "2         Beginner           MeAt      53.008323  \n",
       "3         Beginner           MeAt      48.621527  \n",
       "4     Intermediate           MEAT      44.156984  "
      ]
     },
     "execution_count": 1580,
     "metadata": {},
     "output_type": "execute_result"
    }
   ],
   "source": [
    "df.head()"
   ]
  },
  {
   "cell_type": "code",
   "execution_count": 1581,
   "metadata": {},
   "outputs": [
    {
     "name": "stdout",
     "output_type": "stream",
     "text": [
      "<class 'pandas.core.frame.DataFrame'>\n",
      "RangeIndex: 911 entries, 0 to 910\n",
      "Data columns (total 12 columns):\n",
      " #   Column            Non-Null Count  Dtype  \n",
      "---  ------            --------------  -----  \n",
      " 0   ID                911 non-null    int64  \n",
      " 1   date              911 non-null    object \n",
      " 2   meals_served      911 non-null    int64  \n",
      " 3   kitchen_staff     911 non-null    int64  \n",
      " 4   temperature_C     911 non-null    float64\n",
      " 5   humidity_percent  911 non-null    float64\n",
      " 6   day_of_week       911 non-null    int64  \n",
      " 7   special_event     911 non-null    int64  \n",
      " 8   past_waste_kg     911 non-null    float64\n",
      " 9   staff_experience  747 non-null    object \n",
      " 10  waste_category    911 non-null    object \n",
      " 11  food_waste_kg     911 non-null    float64\n",
      "dtypes: float64(4), int64(5), object(3)\n",
      "memory usage: 85.5+ KB\n"
     ]
    }
   ],
   "source": [
    "df.info()"
   ]
  },
  {
   "cell_type": "markdown",
   "metadata": {},
   "source": [
    "## Check Null values"
   ]
  },
  {
   "cell_type": "code",
   "execution_count": 1582,
   "metadata": {},
   "outputs": [
    {
     "data": {
      "text/plain": [
       "ID                    0\n",
       "date                  0\n",
       "meals_served          0\n",
       "kitchen_staff         0\n",
       "temperature_C         0\n",
       "humidity_percent      0\n",
       "day_of_week           0\n",
       "special_event         0\n",
       "past_waste_kg         0\n",
       "staff_experience    164\n",
       "waste_category        0\n",
       "food_waste_kg         0\n",
       "dtype: int64"
      ]
     },
     "execution_count": 1582,
     "metadata": {},
     "output_type": "execute_result"
    }
   ],
   "source": [
    "df.isnull().sum()"
   ]
  },
  {
   "cell_type": "markdown",
   "metadata": {},
   "source": [
    "## Handle Null values"
   ]
  },
  {
   "cell_type": "code",
   "execution_count": 1583,
   "metadata": {},
   "outputs": [],
   "source": [
    "st_ex=df['staff_experience'].mode()[0]"
   ]
  },
  {
   "cell_type": "code",
   "execution_count": 1584,
   "metadata": {},
   "outputs": [],
   "source": [
    "df.staff_experience.fillna(st_ex,inplace=True)"
   ]
  },
  {
   "cell_type": "code",
   "execution_count": 1585,
   "metadata": {},
   "outputs": [
    {
     "data": {
      "text/plain": [
       "ID                  0\n",
       "date                0\n",
       "meals_served        0\n",
       "kitchen_staff       0\n",
       "temperature_C       0\n",
       "humidity_percent    0\n",
       "day_of_week         0\n",
       "special_event       0\n",
       "past_waste_kg       0\n",
       "staff_experience    0\n",
       "waste_category      0\n",
       "food_waste_kg       0\n",
       "dtype: int64"
      ]
     },
     "execution_count": 1585,
     "metadata": {},
     "output_type": "execute_result"
    }
   ],
   "source": [
    "df.isnull().sum()"
   ]
  },
  {
   "cell_type": "code",
   "execution_count": 1586,
   "metadata": {},
   "outputs": [
    {
     "name": "stdout",
     "output_type": "stream",
     "text": [
      "<class 'pandas.core.frame.DataFrame'>\n",
      "RangeIndex: 911 entries, 0 to 910\n",
      "Data columns (total 12 columns):\n",
      " #   Column            Non-Null Count  Dtype  \n",
      "---  ------            --------------  -----  \n",
      " 0   ID                911 non-null    int64  \n",
      " 1   date              911 non-null    object \n",
      " 2   meals_served      911 non-null    int64  \n",
      " 3   kitchen_staff     911 non-null    int64  \n",
      " 4   temperature_C     911 non-null    float64\n",
      " 5   humidity_percent  911 non-null    float64\n",
      " 6   day_of_week       911 non-null    int64  \n",
      " 7   special_event     911 non-null    int64  \n",
      " 8   past_waste_kg     911 non-null    float64\n",
      " 9   staff_experience  911 non-null    object \n",
      " 10  waste_category    911 non-null    object \n",
      " 11  food_waste_kg     911 non-null    float64\n",
      "dtypes: float64(4), int64(5), object(3)\n",
      "memory usage: 85.5+ KB\n"
     ]
    }
   ],
   "source": [
    "df.info()"
   ]
  },
  {
   "cell_type": "markdown",
   "metadata": {},
   "source": [
    "## Check Duplicates"
   ]
  },
  {
   "cell_type": "code",
   "execution_count": 1587,
   "metadata": {},
   "outputs": [
    {
     "data": {
      "text/plain": [
       "np.int64(0)"
      ]
     },
     "execution_count": 1587,
     "metadata": {},
     "output_type": "execute_result"
    }
   ],
   "source": [
    "df.duplicated().sum()"
   ]
  },
  {
   "cell_type": "markdown",
   "metadata": {},
   "source": [
    "## Change the data type"
   ]
  },
  {
   "cell_type": "code",
   "execution_count": 1588,
   "metadata": {},
   "outputs": [
    {
     "data": {
      "text/plain": [
       "ID                    int64\n",
       "date                 object\n",
       "meals_served          int64\n",
       "kitchen_staff         int64\n",
       "temperature_C       float64\n",
       "humidity_percent    float64\n",
       "day_of_week           int64\n",
       "special_event         int64\n",
       "past_waste_kg       float64\n",
       "staff_experience     object\n",
       "waste_category       object\n",
       "food_waste_kg       float64\n",
       "dtype: object"
      ]
     },
     "execution_count": 1588,
     "metadata": {},
     "output_type": "execute_result"
    }
   ],
   "source": [
    "df.dtypes"
   ]
  },
  {
   "cell_type": "code",
   "execution_count": 1589,
   "metadata": {},
   "outputs": [],
   "source": [
    "# Select object data type only and change data type to categorical\n",
    "cat_cols=df.select_dtypes(include=[\"object\"]).columns\n",
    "df[cat_cols] = df[cat_cols].astype('category')"
   ]
  },
  {
   "cell_type": "code",
   "execution_count": 1590,
   "metadata": {},
   "outputs": [
    {
     "data": {
      "text/plain": [
       "ID                     int64\n",
       "date                category\n",
       "meals_served           int64\n",
       "kitchen_staff          int64\n",
       "temperature_C        float64\n",
       "humidity_percent     float64\n",
       "day_of_week            int64\n",
       "special_event          int64\n",
       "past_waste_kg        float64\n",
       "staff_experience    category\n",
       "waste_category      category\n",
       "food_waste_kg        float64\n",
       "dtype: object"
      ]
     },
     "execution_count": 1590,
     "metadata": {},
     "output_type": "execute_result"
    }
   ],
   "source": [
    "df.dtypes"
   ]
  },
  {
   "cell_type": "markdown",
   "metadata": {},
   "source": [
    "## Drop unnecessary columns"
   ]
  },
  {
   "cell_type": "code",
   "execution_count": 1591,
   "metadata": {},
   "outputs": [
    {
     "data": {
      "text/html": [
       "<div>\n",
       "<style scoped>\n",
       "    .dataframe tbody tr th:only-of-type {\n",
       "        vertical-align: middle;\n",
       "    }\n",
       "\n",
       "    .dataframe tbody tr th {\n",
       "        vertical-align: top;\n",
       "    }\n",
       "\n",
       "    .dataframe thead th {\n",
       "        text-align: right;\n",
       "    }\n",
       "</style>\n",
       "<table border=\"1\" class=\"dataframe\">\n",
       "  <thead>\n",
       "    <tr style=\"text-align: right;\">\n",
       "      <th></th>\n",
       "      <th>ID</th>\n",
       "      <th>date</th>\n",
       "      <th>meals_served</th>\n",
       "      <th>kitchen_staff</th>\n",
       "      <th>temperature_C</th>\n",
       "      <th>humidity_percent</th>\n",
       "      <th>day_of_week</th>\n",
       "      <th>special_event</th>\n",
       "      <th>past_waste_kg</th>\n",
       "      <th>staff_experience</th>\n",
       "      <th>waste_category</th>\n",
       "      <th>food_waste_kg</th>\n",
       "    </tr>\n",
       "  </thead>\n",
       "  <tbody>\n",
       "    <tr>\n",
       "      <th>168</th>\n",
       "      <td>197</td>\n",
       "      <td>2022-09-05</td>\n",
       "      <td>393</td>\n",
       "      <td>14</td>\n",
       "      <td>27.634640</td>\n",
       "      <td>80.503402</td>\n",
       "      <td>0</td>\n",
       "      <td>0</td>\n",
       "      <td>7.113785</td>\n",
       "      <td>Beginner</td>\n",
       "      <td>MEAT</td>\n",
       "      <td>43.231858</td>\n",
       "    </tr>\n",
       "    <tr>\n",
       "      <th>310</th>\n",
       "      <td>362</td>\n",
       "      <td>2024-04-02</td>\n",
       "      <td>296</td>\n",
       "      <td>7</td>\n",
       "      <td>20.879510</td>\n",
       "      <td>63.538838</td>\n",
       "      <td>1</td>\n",
       "      <td>0</td>\n",
       "      <td>20.014740</td>\n",
       "      <td>intermediate</td>\n",
       "      <td>dairy</td>\n",
       "      <td>29.024338</td>\n",
       "    </tr>\n",
       "    <tr>\n",
       "      <th>386</th>\n",
       "      <td>452</td>\n",
       "      <td>2023-06-12</td>\n",
       "      <td>321</td>\n",
       "      <td>9</td>\n",
       "      <td>25.159274</td>\n",
       "      <td>86.930757</td>\n",
       "      <td>0</td>\n",
       "      <td>1</td>\n",
       "      <td>49.796337</td>\n",
       "      <td>intermediate</td>\n",
       "      <td>MEAT</td>\n",
       "      <td>60.554783</td>\n",
       "    </tr>\n",
       "  </tbody>\n",
       "</table>\n",
       "</div>"
      ],
      "text/plain": [
       "      ID        date  meals_served  kitchen_staff  temperature_C  \\\n",
       "168  197  2022-09-05           393             14      27.634640   \n",
       "310  362  2024-04-02           296              7      20.879510   \n",
       "386  452  2023-06-12           321              9      25.159274   \n",
       "\n",
       "     humidity_percent  day_of_week  special_event  past_waste_kg  \\\n",
       "168         80.503402            0              0       7.113785   \n",
       "310         63.538838            1              0      20.014740   \n",
       "386         86.930757            0              1      49.796337   \n",
       "\n",
       "    staff_experience waste_category  food_waste_kg  \n",
       "168         Beginner           MEAT      43.231858  \n",
       "310     intermediate          dairy      29.024338  \n",
       "386     intermediate           MEAT      60.554783  "
      ]
     },
     "execution_count": 1591,
     "metadata": {},
     "output_type": "execute_result"
    }
   ],
   "source": [
    "df.sample(3)"
   ]
  },
  {
   "cell_type": "code",
   "execution_count": 1592,
   "metadata": {},
   "outputs": [],
   "source": [
    "cols_to_drop = ['ID','date',]\n",
    "df.drop(columns=cols_to_drop, inplace=True)"
   ]
  },
  {
   "cell_type": "markdown",
   "metadata": {},
   "source": [
    "## Check outliers for numerical columns"
   ]
  },
  {
   "cell_type": "code",
   "execution_count": 1593,
   "metadata": {},
   "outputs": [
    {
     "data": {
      "text/html": [
       "<div>\n",
       "<style scoped>\n",
       "    .dataframe tbody tr th:only-of-type {\n",
       "        vertical-align: middle;\n",
       "    }\n",
       "\n",
       "    .dataframe tbody tr th {\n",
       "        vertical-align: top;\n",
       "    }\n",
       "\n",
       "    .dataframe thead th {\n",
       "        text-align: right;\n",
       "    }\n",
       "</style>\n",
       "<table border=\"1\" class=\"dataframe\">\n",
       "  <thead>\n",
       "    <tr style=\"text-align: right;\">\n",
       "      <th></th>\n",
       "      <th>meals_served</th>\n",
       "      <th>kitchen_staff</th>\n",
       "      <th>temperature_C</th>\n",
       "      <th>humidity_percent</th>\n",
       "      <th>day_of_week</th>\n",
       "      <th>special_event</th>\n",
       "      <th>past_waste_kg</th>\n",
       "      <th>food_waste_kg</th>\n",
       "    </tr>\n",
       "  </thead>\n",
       "  <tbody>\n",
       "    <tr>\n",
       "      <th>884</th>\n",
       "      <td>393</td>\n",
       "      <td>14</td>\n",
       "      <td>34.183904</td>\n",
       "      <td>49.515234</td>\n",
       "      <td>5</td>\n",
       "      <td>0</td>\n",
       "      <td>36.834182</td>\n",
       "      <td>50.279178</td>\n",
       "    </tr>\n",
       "    <tr>\n",
       "      <th>73</th>\n",
       "      <td>312</td>\n",
       "      <td>13</td>\n",
       "      <td>32.795901</td>\n",
       "      <td>43.213518</td>\n",
       "      <td>2</td>\n",
       "      <td>0</td>\n",
       "      <td>19.309215</td>\n",
       "      <td>27.260593</td>\n",
       "    </tr>\n",
       "  </tbody>\n",
       "</table>\n",
       "</div>"
      ],
      "text/plain": [
       "     meals_served  kitchen_staff  temperature_C  humidity_percent  \\\n",
       "884           393             14      34.183904         49.515234   \n",
       "73            312             13      32.795901         43.213518   \n",
       "\n",
       "     day_of_week  special_event  past_waste_kg  food_waste_kg  \n",
       "884            5              0      36.834182      50.279178  \n",
       "73             2              0      19.309215      27.260593  "
      ]
     },
     "execution_count": 1593,
     "metadata": {},
     "output_type": "execute_result"
    }
   ],
   "source": [
    "num_cols=df.select_dtypes(include=[\"number\"])\n",
    "num_cols.sample(2)"
   ]
  },
  {
   "cell_type": "code",
   "execution_count": 1594,
   "metadata": {},
   "outputs": [
    {
     "data": {
      "image/png": "[encoded data removed]",
      "text/plain": [
       "<Figure size 1500x500 with 8 Axes>"
      ]
     },
     "metadata": {},
     "output_type": "display_data"
    }
   ],
   "source": [
    "plt.figure(figsize=(15,5))\n",
    "for index,col in enumerate(num_cols.columns):\n",
    "  plt.subplot(5,2,index+1)\n",
    "  plt.title(f\"Box Plot {col}\")\n",
    "  sns.boxplot(x=df[col],color=\"red\")\n",
    "plt.tight_layout()\n",
    "plt.show()"
   ]
  },
  {
   "cell_type": "markdown",
   "metadata": {},
   "source": [
    "## Replace outliers"
   ]
  },
  {
   "cell_type": "code",
   "execution_count": 1595,
   "metadata": {},
   "outputs": [],
   "source": [
    "for col in num_cols:\n",
    "  Q1= df[col].quantile(0.25)\n",
    "  Q3= df[col].quantile(0.75)\n",
    "  IQR=Q3-Q1\n",
    "  lower_fence=Q1-1.5*IQR\n",
    "  upper_fence=Q3+1.5*IQR\n",
    "  lower_outliers=df[df[col]<lower_fence][col].values\n",
    "  upper_outliers=df[df[col]>upper_fence][col].values\n",
    "  df[col].replace(lower_outliers,lower_fence,inplace=True)\n",
    "  df[col].replace(upper_outliers,upper_fence,inplace=True)"
   ]
  },
  {
   "cell_type": "code",
   "execution_count": 1596,
   "metadata": {},
   "outputs": [
    {
     "data": {
      "image/png": "[encoded data removed]",
      "text/plain": [
       "<Figure size 1500x500 with 8 Axes>"
      ]
     },
     "metadata": {},
     "output_type": "display_data"
    }
   ],
   "source": [
    "plt.figure(figsize=(15,5))\n",
    "for index,col in enumerate(num_cols.columns):\n",
    "  plt.subplot(5,2,index+1)\n",
    "  plt.title(f\"Box Plot {col}\")\n",
    "  sns.boxplot(x=df[col],color=\"red\")\n",
    "plt.tight_layout()\n",
    "plt.show()"
   ]
  },
  {
   "cell_type": "markdown",
   "metadata": {},
   "source": [
    "## Label incoder"
   ]
  },
  {
   "cell_type": "code",
   "execution_count": 1597,
   "metadata": {},
   "outputs": [
    {
     "data": {
      "text/html": [
       "<div>\n",
       "<style scoped>\n",
       "    .dataframe tbody tr th:only-of-type {\n",
       "        vertical-align: middle;\n",
       "    }\n",
       "\n",
       "    .dataframe tbody tr th {\n",
       "        vertical-align: top;\n",
       "    }\n",
       "\n",
       "    .dataframe thead th {\n",
       "        text-align: right;\n",
       "    }\n",
       "</style>\n",
       "<table border=\"1\" class=\"dataframe\">\n",
       "  <thead>\n",
       "    <tr style=\"text-align: right;\">\n",
       "      <th></th>\n",
       "      <th>meals_served</th>\n",
       "      <th>kitchen_staff</th>\n",
       "      <th>temperature_C</th>\n",
       "      <th>humidity_percent</th>\n",
       "      <th>day_of_week</th>\n",
       "      <th>special_event</th>\n",
       "      <th>past_waste_kg</th>\n",
       "      <th>staff_experience</th>\n",
       "      <th>waste_category</th>\n",
       "      <th>food_waste_kg</th>\n",
       "    </tr>\n",
       "  </thead>\n",
       "  <tbody>\n",
       "    <tr>\n",
       "      <th>135</th>\n",
       "      <td>268</td>\n",
       "      <td>7</td>\n",
       "      <td>26.226866</td>\n",
       "      <td>88.176464</td>\n",
       "      <td>6</td>\n",
       "      <td>0</td>\n",
       "      <td>19.175473</td>\n",
       "      <td>Beginner</td>\n",
       "      <td>MEAT</td>\n",
       "      <td>41.544223</td>\n",
       "    </tr>\n",
       "  </tbody>\n",
       "</table>\n",
       "</div>"
      ],
      "text/plain": [
       "     meals_served  kitchen_staff  temperature_C  humidity_percent  \\\n",
       "135           268              7      26.226866         88.176464   \n",
       "\n",
       "     day_of_week  special_event  past_waste_kg staff_experience  \\\n",
       "135            6              0      19.175473         Beginner   \n",
       "\n",
       "    waste_category  food_waste_kg  \n",
       "135           MEAT      41.544223  "
      ]
     },
     "execution_count": 1597,
     "metadata": {},
     "output_type": "execute_result"
    }
   ],
   "source": [
    "df.sample(1)"
   ]
  },
  {
   "cell_type": "code",
   "execution_count": 1598,
   "metadata": {},
   "outputs": [
    {
     "name": "stdout",
     "output_type": "stream",
     "text": [
      "<class 'pandas.core.frame.DataFrame'>\n",
      "RangeIndex: 911 entries, 0 to 910\n",
      "Data columns (total 10 columns):\n",
      " #   Column            Non-Null Count  Dtype  \n",
      "---  ------            --------------  -----  \n",
      " 0   meals_served      911 non-null    int64  \n",
      " 1   kitchen_staff     911 non-null    int64  \n",
      " 2   temperature_C     911 non-null    float64\n",
      " 3   humidity_percent  911 non-null    float64\n",
      " 4   day_of_week       911 non-null    int64  \n",
      " 5   special_event     911 non-null    int64  \n",
      " 6   past_waste_kg     911 non-null    float64\n",
      " 7   staff_experience  911 non-null    int64  \n",
      " 8   waste_category    911 non-null    int64  \n",
      " 9   food_waste_kg     911 non-null    float64\n",
      "dtypes: float64(4), int64(6)\n",
      "memory usage: 71.3 KB\n"
     ]
    }
   ],
   "source": [
    "df[\"staff_experience\"] = LabelEncoder().fit_transform(df[\"staff_experience\"])\n",
    "df[\"waste_category\"] = LabelEncoder().fit_transform(df[\"waste_category\"])\n",
    "df.info()"
   ]
  },
  {
   "cell_type": "code",
   "execution_count": 1599,
   "metadata": {},
   "outputs": [
    {
     "data": {
      "text/html": [
       "<div>\n",
       "<style scoped>\n",
       "    .dataframe tbody tr th:only-of-type {\n",
       "        vertical-align: middle;\n",
       "    }\n",
       "\n",
       "    .dataframe tbody tr th {\n",
       "        vertical-align: top;\n",
       "    }\n",
       "\n",
       "    .dataframe thead th {\n",
       "        text-align: right;\n",
       "    }\n",
       "</style>\n",
       "<table border=\"1\" class=\"dataframe\">\n",
       "  <thead>\n",
       "    <tr style=\"text-align: right;\">\n",
       "      <th></th>\n",
       "      <th>meals_served</th>\n",
       "      <th>kitchen_staff</th>\n",
       "      <th>temperature_C</th>\n",
       "      <th>humidity_percent</th>\n",
       "      <th>day_of_week</th>\n",
       "      <th>special_event</th>\n",
       "      <th>past_waste_kg</th>\n",
       "      <th>staff_experience</th>\n",
       "      <th>waste_category</th>\n",
       "      <th>food_waste_kg</th>\n",
       "    </tr>\n",
       "  </thead>\n",
       "  <tbody>\n",
       "    <tr>\n",
       "      <th>585</th>\n",
       "      <td>334</td>\n",
       "      <td>12</td>\n",
       "      <td>29.849743</td>\n",
       "      <td>63.202741</td>\n",
       "      <td>0</td>\n",
       "      <td>0</td>\n",
       "      <td>42.638702</td>\n",
       "      <td>0</td>\n",
       "      <td>0</td>\n",
       "      <td>50.090502</td>\n",
       "    </tr>\n",
       "  </tbody>\n",
       "</table>\n",
       "</div>"
      ],
      "text/plain": [
       "     meals_served  kitchen_staff  temperature_C  humidity_percent  \\\n",
       "585           334             12      29.849743         63.202741   \n",
       "\n",
       "     day_of_week  special_event  past_waste_kg  staff_experience  \\\n",
       "585            0              0      42.638702                 0   \n",
       "\n",
       "     waste_category  food_waste_kg  \n",
       "585               0      50.090502  "
      ]
     },
     "execution_count": 1599,
     "metadata": {},
     "output_type": "execute_result"
    }
   ],
   "source": [
    "df.sample(1)"
   ]
  },
  {
   "cell_type": "markdown",
   "metadata": {},
   "source": [
    "## Training and testing split"
   ]
  },
  {
   "cell_type": "code",
   "execution_count": 1600,
   "metadata": {},
   "outputs": [],
   "source": [
    "X=df.drop(columns=['food_waste_kg'])\n",
    "Y=df.food_waste_kg"
   ]
  },
  {
   "cell_type": "markdown",
   "metadata": {},
   "source": [
    "#### Standardization"
   ]
  },
  {
   "cell_type": "code",
   "execution_count": 1601,
   "metadata": {},
   "outputs": [],
   "source": [
    "scaled=StandardScaler()\n",
    "X_scaled = scaled.fit_transform(X)"
   ]
  },
  {
   "cell_type": "code",
   "execution_count": 1602,
   "metadata": {},
   "outputs": [],
   "source": [
    "X_train,X_test,Y_train,Y_test=train_test_split(X_scaled,Y,test_size=0.2,random_state=42)"
   ]
  },
  {
   "cell_type": "markdown",
   "metadata": {},
   "source": [
    "## Model Training"
   ]
  },
  {
   "cell_type": "markdown",
   "metadata": {},
   "source": [
    "#### Train models\n"
   ]
  },
  {
   "cell_type": "code",
   "execution_count": 1603,
   "metadata": {},
   "outputs": [],
   "source": [
    "models = {\n",
    "    'Linear Regression': LinearRegression(),\n",
    "    'XGBoost': XGBRegressor(),\n",
    "    #'GridSearchCV':GridSearchCV(rf, param_grid, cv=5, scoring='r2', verbose=3),\n",
    "    'Decision Tree Regresso':DecisionTreeRegressor(random_state=42),\n",
    "    'Random Forest': RandomForestRegressor(random_state=42),\n",
    "}\n"
   ]
  },
  {
   "cell_type": "code",
   "execution_count": 1604,
   "metadata": {},
   "outputs": [],
   "source": [
    "results = {}\n",
    "for name, model in models.items():\n",
    "    model.fit(X_train,Y_train,)\n",
    "    y_pred = model.predict(X_test)\n",
    "    mae = mean_absolute_error(Y_test, y_pred)\n",
    "    rmse = np.sqrt(mean_squared_error(Y_test, y_pred))\n",
    "    r2 = r2_score(Y_test, y_pred)\n",
    "    results[name] = {'MAE': mae, 'RMSE': rmse, 'R²': r2}"
   ]
  },
  {
   "cell_type": "markdown",
   "metadata": {},
   "source": [
    "#### Print results\n"
   ]
  },
  {
   "cell_type": "code",
   "execution_count": 1605,
   "metadata": {},
   "outputs": [
    {
     "name": "stdout",
     "output_type": "stream",
     "text": [
      "Linear Regression:\n",
      "  MAE: % 4.71\n",
      "  RMSE: % 5.88\n",
      "  R²_score: % 0.75\n",
      "XGBoost:\n",
      "  MAE: % 4.81\n",
      "  RMSE: % 6.18\n",
      "  R²_score: % 0.73\n",
      "Decision Tree Regresso:\n",
      "  MAE: % 5.89\n",
      "  RMSE: % 7.95\n",
      "  R²_score: % 0.55\n",
      "Random Forest:\n",
      "  MAE: % 4.65\n",
      "  RMSE: % 5.76\n",
      "  R²_score: % 0.76\n"
     ]
    }
   ],
   "source": [
    "for model, metrics in results.items():\n",
    "    print(f\"{model}:\")\n",
    "    print(f\"  MAE: % {metrics['MAE']:.2f}\")\n",
    "    print(f\"  RMSE: % {metrics['RMSE']:.2f}\")\n",
    "    print(f\"  R²_score: % {metrics['R²']:.2f}\")\n"
   ]
  },
  {
   "cell_type": "markdown",
   "metadata": {},
   "source": [
    "### Best model"
   ]
  },
  {
   "cell_type": "code",
   "execution_count": 1606,
   "metadata": {},
   "outputs": [
    {
     "name": "stdout",
     "output_type": "stream",
     "text": [
      "\n",
      "Best Model: Random Forest with MAE: 4.65\n"
     ]
    }
   ],
   "source": [
    "best_model = min(results, key=lambda x: results[x]['MAE'])\n",
    "print(f\"\\nBest Model: {best_model} with MAE: {results[best_model]['MAE']:.2f}\")"
   ]
  },
  {
   "cell_type": "markdown",
   "metadata": {},
   "source": [
    "# RandomForestRegressor"
   ]
  },
  {
   "cell_type": "code",
   "execution_count": 1607,
   "metadata": {},
   "outputs": [],
   "source": [
    "X_train,X_val,Y_train,Y_val=train_test_split(X_train,Y_train,test_size=0.1,random_state=42)"
   ]
  },
  {
   "cell_type": "code",
   "execution_count": 1608,
   "metadata": {},
   "outputs": [
    {
     "data": {
      "text/html": [
       "<style>#sk-container-id-5 {\n",
       "  /* Definition of color scheme common for light and dark mode */\n",
       "  --sklearn-color-text: #000;\n",
       "  --sklearn-color-text-muted: #666;\n",
       "  --sklearn-color-line: gray;\n",
       "  /* Definition of color scheme for unfitted estimators */\n",
       "  --sklearn-color-unfitted-level-0: #fff5e6;\n",
       "  --sklearn-color-unfitted-level-1: #f6e4d2;\n",
       "  --sklearn-color-unfitted-level-2: #ffe0b3;\n",
       "  --sklearn-color-unfitted-level-3: chocolate;\n",
       "  /* Definition of color scheme for fitted estimators */\n",
       "  --sklearn-color-fitted-level-0: #f0f8ff;\n",
       "  --sklearn-color-fitted-level-1: #d4ebff;\n",
       "  --sklearn-color-fitted-level-2: #b3dbfd;\n",
       "  --sklearn-color-fitted-level-3: cornflowerblue;\n",
       "\n",
       "  /* Specific color for light theme */\n",
       "  --sklearn-color-text-on-default-background: var(--sg-text-color, var(--theme-code-foreground, var(--jp-content-font-color1, black)));\n",
       "  --sklearn-color-background: var(--sg-background-color, var(--theme-background, var(--jp-layout-color0, white)));\n",
       "  --sklearn-color-border-box: var(--sg-text-color, var(--theme-code-foreground, var(--jp-content-font-color1, black)));\n",
       "  --sklearn-color-icon: #696969;\n",
       "\n",
       "  @media (prefers-color-scheme: dark) {\n",
       "    /* Redefinition of color scheme for dark theme */\n",
       "    --sklearn-color-text-on-default-background: var(--sg-text-color, var(--theme-code-foreground, var(--jp-content-font-color1, white)));\n",
       "    --sklearn-color-background: var(--sg-background-color, var(--theme-background, var(--jp-layout-color0, #111)));\n",
       "    --sklearn-color-border-box: var(--sg-text-color, var(--theme-code-foreground, var(--jp-content-font-color1, white)));\n",
       "    --sklearn-color-icon: #878787;\n",
       "  }\n",
       "}\n",
       "\n",
       "#sk-container-id-5 {\n",
       "  color: var(--sklearn-color-text);\n",
       "}\n",
       "\n",
       "#sk-container-id-5 pre {\n",
       "  padding: 0;\n",
       "}\n",
       "\n",
       "#sk-container-id-5 input.sk-hidden--visually {\n",
       "  border: 0;\n",
       "  clip: rect(1px 1px 1px 1px);\n",
       "  clip: rect(1px, 1px, 1px, 1px);\n",
       "  height: 1px;\n",
       "  margin: -1px;\n",
       "  overflow: hidden;\n",
       "  padding: 0;\n",
       "  position: absolute;\n",
       "  width: 1px;\n",
       "}\n",
       "\n",
       "#sk-container-id-5 div.sk-dashed-wrapped {\n",
       "  border: 1px dashed var(--sklearn-color-line);\n",
       "  margin: 0 0.4em 0.5em 0.4em;\n",
       "  box-sizing: border-box;\n",
       "  padding-bottom: 0.4em;\n",
       "  background-color: var(--sklearn-color-background);\n",
       "}\n",
       "\n",
       "#sk-container-id-5 div.sk-container {\n",
       "  /* jupyter's `normalize.less` sets `[hidden] { display: none; }`\n",
       "     but bootstrap.min.css set `[hidden] { display: none !important; }`\n",
       "     so we also need the `!important` here to be able to override the\n",
       "     default hidden behavior on the sphinx rendered scikit-learn.org.\n",
       "     See: https://github.com/scikit-learn/scikit-learn/issues/21755 */\n",
       "  display: inline-block !important;\n",
       "  position: relative;\n",
       "}\n",
       "\n",
       "#sk-container-id-5 div.sk-text-repr-fallback {\n",
       "  display: none;\n",
       "}\n",
       "\n",
       "div.sk-parallel-item,\n",
       "div.sk-serial,\n",
       "div.sk-item {\n",
       "  /* draw centered vertical line to link estimators */\n",
       "  background-image: linear-gradient(var(--sklearn-color-text-on-default-background), var(--sklearn-color-text-on-default-background));\n",
       "  background-size: 2px 100%;\n",
       "  background-repeat: no-repeat;\n",
       "  background-position: center center;\n",
       "}\n",
       "\n",
       "/* Parallel-specific style estimator block */\n",
       "\n",
       "#sk-container-id-5 div.sk-parallel-item::after {\n",
       "  content: \"\";\n",
       "  width: 100%;\n",
       "  border-bottom: 2px solid var(--sklearn-color-text-on-default-background);\n",
       "  flex-grow: 1;\n",
       "}\n",
       "\n",
       "#sk-container-id-5 div.sk-parallel {\n",
       "  display: flex;\n",
       "  align-items: stretch;\n",
       "  justify-content: center;\n",
       "  background-color: var(--sklearn-color-background);\n",
       "  position: relative;\n",
       "}\n",
       "\n",
       "#sk-container-id-5 div.sk-parallel-item {\n",
       "  display: flex;\n",
       "  flex-direction: column;\n",
       "}\n",
       "\n",
       "#sk-container-id-5 div.sk-parallel-item:first-child::after {\n",
       "  align-self: flex-end;\n",
       "  width: 50%;\n",
       "}\n",
       "\n",
       "#sk-container-id-5 div.sk-parallel-item:last-child::after {\n",
       "  align-self: flex-start;\n",
       "  width: 50%;\n",
       "}\n",
       "\n",
       "#sk-container-id-5 div.sk-parallel-item:only-child::after {\n",
       "  width: 0;\n",
       "}\n",
       "\n",
       "/* Serial-specific style estimator block */\n",
       "\n",
       "#sk-container-id-5 div.sk-serial {\n",
       "  display: flex;\n",
       "  flex-direction: column;\n",
       "  align-items: center;\n",
       "  background-color: var(--sklearn-color-background);\n",
       "  padding-right: 1em;\n",
       "  padding-left: 1em;\n",
       "}\n",
       "\n",
       "\n",
       "/* Toggleable style: style used for estimator/Pipeline/ColumnTransformer box that is\n",
       "clickable and can be expanded/collapsed.\n",
       "- Pipeline and ColumnTransformer use this feature and define the default style\n",
       "- Estimators will overwrite some part of the style using the `sk-estimator` class\n",
       "*/\n",
       "\n",
       "/* Pipeline and ColumnTransformer style (default) */\n",
       "\n",
       "#sk-container-id-5 div.sk-toggleable {\n",
       "  /* Default theme specific background. It is overwritten whether we have a\n",
       "  specific estimator or a Pipeline/ColumnTransformer */\n",
       "  background-color: var(--sklearn-color-background);\n",
       "}\n",
       "\n",
       "/* Toggleable label */\n",
       "#sk-container-id-5 label.sk-toggleable__label {\n",
       "  cursor: pointer;\n",
       "  display: flex;\n",
       "  width: 100%;\n",
       "  margin-bottom: 0;\n",
       "  padding: 0.5em;\n",
       "  box-sizing: border-box;\n",
       "  text-align: center;\n",
       "  align-items: start;\n",
       "  justify-content: space-between;\n",
       "  gap: 0.5em;\n",
       "}\n",
       "\n",
       "#sk-container-id-5 label.sk-toggleable__label .caption {\n",
       "  font-size: 0.6rem;\n",
       "  font-weight: lighter;\n",
       "  color: var(--sklearn-color-text-muted);\n",
       "}\n",
       "\n",
       "#sk-container-id-5 label.sk-toggleable__label-arrow:before {\n",
       "  /* Arrow on the left of the label */\n",
       "  content: \"▸\";\n",
       "  float: left;\n",
       "  margin-right: 0.25em;\n",
       "  color: var(--sklearn-color-icon);\n",
       "}\n",
       "\n",
       "#sk-container-id-5 label.sk-toggleable__label-arrow:hover:before {\n",
       "  color: var(--sklearn-color-text);\n",
       "}\n",
       "\n",
       "/* Toggleable content - dropdown */\n",
       "\n",
       "#sk-container-id-5 div.sk-toggleable__content {\n",
       "  max-height: 0;\n",
       "  max-width: 0;\n",
       "  overflow: hidden;\n",
       "  text-align: left;\n",
       "  /* unfitted */\n",
       "  background-color: var(--sklearn-color-unfitted-level-0);\n",
       "}\n",
       "\n",
       "#sk-container-id-5 div.sk-toggleable__content.fitted {\n",
       "  /* fitted */\n",
       "  background-color: var(--sklearn-color-fitted-level-0);\n",
       "}\n",
       "\n",
       "#sk-container-id-5 div.sk-toggleable__content pre {\n",
       "  margin: 0.2em;\n",
       "  border-radius: 0.25em;\n",
       "  color: var(--sklearn-color-text);\n",
       "  /* unfitted */\n",
       "  background-color: var(--sklearn-color-unfitted-level-0);\n",
       "}\n",
       "\n",
       "#sk-container-id-5 div.sk-toggleable__content.fitted pre {\n",
       "  /* unfitted */\n",
       "  background-color: var(--sklearn-color-fitted-level-0);\n",
       "}\n",
       "\n",
       "#sk-container-id-5 input.sk-toggleable__control:checked~div.sk-toggleable__content {\n",
       "  /* Expand drop-down */\n",
       "  max-height: 200px;\n",
       "  max-width: 100%;\n",
       "  overflow: auto;\n",
       "}\n",
       "\n",
       "#sk-container-id-5 input.sk-toggleable__control:checked~label.sk-toggleable__label-arrow:before {\n",
       "  content: \"▾\";\n",
       "}\n",
       "\n",
       "/* Pipeline/ColumnTransformer-specific style */\n",
       "\n",
       "#sk-container-id-5 div.sk-label input.sk-toggleable__control:checked~label.sk-toggleable__label {\n",
       "  color: var(--sklearn-color-text);\n",
       "  background-color: var(--sklearn-color-unfitted-level-2);\n",
       "}\n",
       "\n",
       "#sk-container-id-5 div.sk-label.fitted input.sk-toggleable__control:checked~label.sk-toggleable__label {\n",
       "  background-color: var(--sklearn-color-fitted-level-2);\n",
       "}\n",
       "\n",
       "/* Estimator-specific style */\n",
       "\n",
       "/* Colorize estimator box */\n",
       "#sk-container-id-5 div.sk-estimator input.sk-toggleable__control:checked~label.sk-toggleable__label {\n",
       "  /* unfitted */\n",
       "  background-color: var(--sklearn-color-unfitted-level-2);\n",
       "}\n",
       "\n",
       "#sk-container-id-5 div.sk-estimator.fitted input.sk-toggleable__control:checked~label.sk-toggleable__label {\n",
       "  /* fitted */\n",
       "  background-color: var(--sklearn-color-fitted-level-2);\n",
       "}\n",
       "\n",
       "#sk-container-id-5 div.sk-label label.sk-toggleable__label,\n",
       "#sk-container-id-5 div.sk-label label {\n",
       "  /* The background is the default theme color */\n",
       "  color: var(--sklearn-color-text-on-default-background);\n",
       "}\n",
       "\n",
       "/* On hover, darken the color of the background */\n",
       "#sk-container-id-5 div.sk-label:hover label.sk-toggleable__label {\n",
       "  color: var(--sklearn-color-text);\n",
       "  background-color: var(--sklearn-color-unfitted-level-2);\n",
       "}\n",
       "\n",
       "/* Label box, darken color on hover, fitted */\n",
       "#sk-container-id-5 div.sk-label.fitted:hover label.sk-toggleable__label.fitted {\n",
       "  color: var(--sklearn-color-text);\n",
       "  background-color: var(--sklearn-color-fitted-level-2);\n",
       "}\n",
       "\n",
       "/* Estimator label */\n",
       "\n",
       "#sk-container-id-5 div.sk-label label {\n",
       "  font-family: monospace;\n",
       "  font-weight: bold;\n",
       "  display: inline-block;\n",
       "  line-height: 1.2em;\n",
       "}\n",
       "\n",
       "#sk-container-id-5 div.sk-label-container {\n",
       "  text-align: center;\n",
       "}\n",
       "\n",
       "/* Estimator-specific */\n",
       "#sk-container-id-5 div.sk-estimator {\n",
       "  font-family: monospace;\n",
       "  border: 1px dotted var(--sklearn-color-border-box);\n",
       "  border-radius: 0.25em;\n",
       "  box-sizing: border-box;\n",
       "  margin-bottom: 0.5em;\n",
       "  /* unfitted */\n",
       "  background-color: var(--sklearn-color-unfitted-level-0);\n",
       "}\n",
       "\n",
       "#sk-container-id-5 div.sk-estimator.fitted {\n",
       "  /* fitted */\n",
       "  background-color: var(--sklearn-color-fitted-level-0);\n",
       "}\n",
       "\n",
       "/* on hover */\n",
       "#sk-container-id-5 div.sk-estimator:hover {\n",
       "  /* unfitted */\n",
       "  background-color: var(--sklearn-color-unfitted-level-2);\n",
       "}\n",
       "\n",
       "#sk-container-id-5 div.sk-estimator.fitted:hover {\n",
       "  /* fitted */\n",
       "  background-color: var(--sklearn-color-fitted-level-2);\n",
       "}\n",
       "\n",
       "/* Specification for estimator info (e.g. \"i\" and \"?\") */\n",
       "\n",
       "/* Common style for \"i\" and \"?\" */\n",
       "\n",
       ".sk-estimator-doc-link,\n",
       "a:link.sk-estimator-doc-link,\n",
       "a:visited.sk-estimator-doc-link {\n",
       "  float: right;\n",
       "  font-size: smaller;\n",
       "  line-height: 1em;\n",
       "  font-family: monospace;\n",
       "  background-color: var(--sklearn-color-background);\n",
       "  border-radius: 1em;\n",
       "  height: 1em;\n",
       "  width: 1em;\n",
       "  text-decoration: none !important;\n",
       "  margin-left: 0.5em;\n",
       "  text-align: center;\n",
       "  /* unfitted */\n",
       "  border: var(--sklearn-color-unfitted-level-1) 1pt solid;\n",
       "  color: var(--sklearn-color-unfitted-level-1);\n",
       "}\n",
       "\n",
       ".sk-estimator-doc-link.fitted,\n",
       "a:link.sk-estimator-doc-link.fitted,\n",
       "a:visited.sk-estimator-doc-link.fitted {\n",
       "  /* fitted */\n",
       "  border: var(--sklearn-color-fitted-level-1) 1pt solid;\n",
       "  color: var(--sklearn-color-fitted-level-1);\n",
       "}\n",
       "\n",
       "/* On hover */\n",
       "div.sk-estimator:hover .sk-estimator-doc-link:hover,\n",
       ".sk-estimator-doc-link:hover,\n",
       "div.sk-label-container:hover .sk-estimator-doc-link:hover,\n",
       ".sk-estimator-doc-link:hover {\n",
       "  /* unfitted */\n",
       "  background-color: var(--sklearn-color-unfitted-level-3);\n",
       "  color: var(--sklearn-color-background);\n",
       "  text-decoration: none;\n",
       "}\n",
       "\n",
       "div.sk-estimator.fitted:hover .sk-estimator-doc-link.fitted:hover,\n",
       ".sk-estimator-doc-link.fitted:hover,\n",
       "div.sk-label-container:hover .sk-estimator-doc-link.fitted:hover,\n",
       ".sk-estimator-doc-link.fitted:hover {\n",
       "  /* fitted */\n",
       "  background-color: var(--sklearn-color-fitted-level-3);\n",
       "  color: var(--sklearn-color-background);\n",
       "  text-decoration: none;\n",
       "}\n",
       "\n",
       "/* Span, style for the box shown on hovering the info icon */\n",
       ".sk-estimator-doc-link span {\n",
       "  display: none;\n",
       "  z-index: 9999;\n",
       "  position: relative;\n",
       "  font-weight: normal;\n",
       "  right: .2ex;\n",
       "  padding: .5ex;\n",
       "  margin: .5ex;\n",
       "  width: min-content;\n",
       "  min-width: 20ex;\n",
       "  max-width: 50ex;\n",
       "  color: var(--sklearn-color-text);\n",
       "  box-shadow: 2pt 2pt 4pt #999;\n",
       "  /* unfitted */\n",
       "  background: var(--sklearn-color-unfitted-level-0);\n",
       "  border: .5pt solid var(--sklearn-color-unfitted-level-3);\n",
       "}\n",
       "\n",
       ".sk-estimator-doc-link.fitted span {\n",
       "  /* fitted */\n",
       "  background: var(--sklearn-color-fitted-level-0);\n",
       "  border: var(--sklearn-color-fitted-level-3);\n",
       "}\n",
       "\n",
       ".sk-estimator-doc-link:hover span {\n",
       "  display: block;\n",
       "}\n",
       "\n",
       "/* \"?\"-specific style due to the `<a>` HTML tag */\n",
       "\n",
       "#sk-container-id-5 a.estimator_doc_link {\n",
       "  float: right;\n",
       "  font-size: 1rem;\n",
       "  line-height: 1em;\n",
       "  font-family: monospace;\n",
       "  background-color: var(--sklearn-color-background);\n",
       "  border-radius: 1rem;\n",
       "  height: 1rem;\n",
       "  width: 1rem;\n",
       "  text-decoration: none;\n",
       "  /* unfitted */\n",
       "  color: var(--sklearn-color-unfitted-level-1);\n",
       "  border: var(--sklearn-color-unfitted-level-1) 1pt solid;\n",
       "}\n",
       "\n",
       "#sk-container-id-5 a.estimator_doc_link.fitted {\n",
       "  /* fitted */\n",
       "  border: var(--sklearn-color-fitted-level-1) 1pt solid;\n",
       "  color: var(--sklearn-color-fitted-level-1);\n",
       "}\n",
       "\n",
       "/* On hover */\n",
       "#sk-container-id-5 a.estimator_doc_link:hover {\n",
       "  /* unfitted */\n",
       "  background-color: var(--sklearn-color-unfitted-level-3);\n",
       "  color: var(--sklearn-color-background);\n",
       "  text-decoration: none;\n",
       "}\n",
       "\n",
       "#sk-container-id-5 a.estimator_doc_link.fitted:hover {\n",
       "  /* fitted */\n",
       "  background-color: var(--sklearn-color-fitted-level-3);\n",
       "}\n",
       "</style><div id=\"sk-container-id-5\" class=\"sk-top-container\"><div class=\"sk-text-repr-fallback\"><pre>RandomForestRegressor(random_state=42)</pre><b>In a Jupyter environment, please rerun this cell to show the HTML representation or trust the notebook. <br />On GitHub, the HTML representation is unable to render, please try loading this page with nbviewer.org.</b></div><div class=\"sk-container\" hidden><div class=\"sk-item\"><div class=\"sk-estimator fitted sk-toggleable\"><input class=\"sk-toggleable__control sk-hidden--visually\" id=\"sk-estimator-id-5\" type=\"checkbox\" checked><label for=\"sk-estimator-id-5\" class=\"sk-toggleable__label fitted sk-toggleable__label-arrow\"><div><div>RandomForestRegressor</div></div><div><a class=\"sk-estimator-doc-link fitted\" rel=\"noreferrer\" target=\"_blank\" href=\"https://scikit-learn.org/1.6/modules/generated/sklearn.ensemble.RandomForestRegressor.html\">?<span>Documentation for RandomForestRegressor</span></a><span class=\"sk-estimator-doc-link fitted\">i<span>Fitted</span></span></div></label><div class=\"sk-toggleable__content fitted\"><pre>RandomForestRegressor(random_state=42)</pre></div> </div></div></div></div>"
      ],
      "text/plain": [
       "RandomForestRegressor(random_state=42)"
      ]
     },
     "execution_count": 1608,
     "metadata": {},
     "output_type": "execute_result"
    }
   ],
   "source": [
    "rf=RandomForestRegressor(random_state=42)\n",
    "rf.fit(X_train,Y_train)"
   ]
  },
  {
   "cell_type": "code",
   "execution_count": 1609,
   "metadata": {},
   "outputs": [
    {
     "name": "stdout",
     "output_type": "stream",
     "text": [
      "1.7432012354165538\n",
      "0.9672573299552446\n"
     ]
    }
   ],
   "source": [
    "y_train_pred=rf.predict(X_train)\n",
    "print(mean_absolute_error(Y_train,y_train_pred))\n",
    "print(r2_score(Y_train,y_train_pred))"
   ]
  },
  {
   "cell_type": "code",
   "execution_count": 1610,
   "metadata": {},
   "outputs": [
    {
     "name": "stdout",
     "output_type": "stream",
     "text": [
      "4.043932194597658\n",
      "0.839231285467735\n"
     ]
    }
   ],
   "source": [
    "y_val_pred=rf.predict(X_val)\n",
    "print(mean_absolute_error(Y_val,y_val_pred))\n",
    "print(r2_score(Y_val,y_val_pred))"
   ]
  },
  {
   "cell_type": "code",
   "execution_count": 1611,
   "metadata": {},
   "outputs": [
    {
     "name": "stdout",
     "output_type": "stream",
     "text": [
      "Fitting 5 folds for each of 9 candidates, totalling 45 fits\n",
      "[CV 1/5] END ....max_depth=10, n_estimators=100;, score=0.794 total time=   0.1s\n",
      "[CV 2/5] END ....max_depth=10, n_estimators=100;, score=0.783 total time=   0.1s\n",
      "[CV 3/5] END ....max_depth=10, n_estimators=100;, score=0.789 total time=   0.1s\n",
      "[CV 4/5] END ....max_depth=10, n_estimators=100;, score=0.708 total time=   0.1s\n",
      "[CV 5/5] END ....max_depth=10, n_estimators=100;, score=0.729 total time=   0.1s\n",
      "[CV 1/5] END ....max_depth=10, n_estimators=200;, score=0.791 total time=   0.3s\n",
      "[CV 2/5] END ....max_depth=10, n_estimators=200;, score=0.788 total time=   0.3s\n",
      "[CV 3/5] END ....max_depth=10, n_estimators=200;, score=0.793 total time=   0.3s\n",
      "[CV 4/5] END ....max_depth=10, n_estimators=200;, score=0.708 total time=   0.3s\n",
      "[CV 5/5] END ....max_depth=10, n_estimators=200;, score=0.722 total time=   0.3s\n",
      "[CV 1/5] END ....max_depth=10, n_estimators=300;, score=0.791 total time=   0.5s\n",
      "[CV 2/5] END ....max_depth=10, n_estimators=300;, score=0.785 total time=   0.5s\n",
      "[CV 3/5] END ....max_depth=10, n_estimators=300;, score=0.792 total time=   0.5s\n",
      "[CV 4/5] END ....max_depth=10, n_estimators=300;, score=0.709 total time=   0.5s\n",
      "[CV 5/5] END ....max_depth=10, n_estimators=300;, score=0.720 total time=   0.5s\n",
      "[CV 1/5] END ....max_depth=20, n_estimators=100;, score=0.790 total time=   0.1s\n",
      "[CV 2/5] END ....max_depth=20, n_estimators=100;, score=0.781 total time=   0.1s\n",
      "[CV 3/5] END ....max_depth=20, n_estimators=100;, score=0.787 total time=   0.1s\n",
      "[CV 4/5] END ....max_depth=20, n_estimators=100;, score=0.705 total time=   0.1s\n",
      "[CV 5/5] END ....max_depth=20, n_estimators=100;, score=0.727 total time=   0.1s\n",
      "[CV 1/5] END ....max_depth=20, n_estimators=200;, score=0.788 total time=   0.4s\n",
      "[CV 2/5] END ....max_depth=20, n_estimators=200;, score=0.789 total time=   0.3s\n",
      "[CV 3/5] END ....max_depth=20, n_estimators=200;, score=0.790 total time=   0.3s\n",
      "[CV 4/5] END ....max_depth=20, n_estimators=200;, score=0.704 total time=   0.3s\n",
      "[CV 5/5] END ....max_depth=20, n_estimators=200;, score=0.721 total time=   0.4s\n",
      "[CV 1/5] END ....max_depth=20, n_estimators=300;, score=0.789 total time=   0.6s\n",
      "[CV 2/5] END ....max_depth=20, n_estimators=300;, score=0.787 total time=   0.6s\n",
      "[CV 3/5] END ....max_depth=20, n_estimators=300;, score=0.791 total time=   0.6s\n",
      "[CV 4/5] END ....max_depth=20, n_estimators=300;, score=0.706 total time=   0.6s\n",
      "[CV 5/5] END ....max_depth=20, n_estimators=300;, score=0.719 total time=   0.6s\n",
      "[CV 1/5] END ..max_depth=None, n_estimators=100;, score=0.790 total time=   0.1s\n",
      "[CV 2/5] END ..max_depth=None, n_estimators=100;, score=0.781 total time=   0.1s\n",
      "[CV 3/5] END ..max_depth=None, n_estimators=100;, score=0.787 total time=   0.1s\n",
      "[CV 4/5] END ..max_depth=None, n_estimators=100;, score=0.705 total time=   0.1s\n",
      "[CV 5/5] END ..max_depth=None, n_estimators=100;, score=0.727 total time=   0.1s\n",
      "[CV 1/5] END ..max_depth=None, n_estimators=200;, score=0.789 total time=   0.3s\n",
      "[CV 2/5] END ..max_depth=None, n_estimators=200;, score=0.789 total time=   0.4s\n",
      "[CV 3/5] END ..max_depth=None, n_estimators=200;, score=0.790 total time=   0.3s\n",
      "[CV 4/5] END ..max_depth=None, n_estimators=200;, score=0.704 total time=   0.4s\n",
      "[CV 5/5] END ..max_depth=None, n_estimators=200;, score=0.721 total time=   0.4s\n",
      "[CV 1/5] END ..max_depth=None, n_estimators=300;, score=0.789 total time=   0.6s\n",
      "[CV 2/5] END ..max_depth=None, n_estimators=300;, score=0.787 total time=   0.6s\n",
      "[CV 3/5] END ..max_depth=None, n_estimators=300;, score=0.791 total time=   0.6s\n",
      "[CV 4/5] END ..max_depth=None, n_estimators=300;, score=0.706 total time=   0.6s\n",
      "[CV 5/5] END ..max_depth=None, n_estimators=300;, score=0.720 total time=   0.6s\n",
      "Best Parameters: {'max_depth': 10, 'n_estimators': 100}\n",
      "Best R² Score: 0.7607508907674136\n"
     ]
    }
   ],
   "source": [
    "from sklearn.model_selection import GridSearchCV\n",
    "\n",
    "param_grid = {\n",
    "    'n_estimators': [100, 200, 300],\n",
    "    'max_depth': [10, 20, None],\n",
    "}\n",
    "\n",
    "grid_search = GridSearchCV(rf, param_grid, cv=5, scoring='r2', verbose=3)\n",
    "grid_search.fit(X_train, Y_train)\n",
    "\n",
    "print(\"Best Parameters:\", grid_search.best_params_)\n",
    "print(\"Best R² Score:\", grid_search.best_score_)\n"
   ]
  },
  {
   "cell_type": "code",
   "execution_count": 1612,
   "metadata": {},
   "outputs": [
    {
     "name": "stdout",
     "output_type": "stream",
     "text": [
      "Best Prarameters:  {'max_depth': 10, 'n_estimators': 100}\n"
     ]
    }
   ],
   "source": [
    "print(\"Best Prarameters: \",grid_search.best_params_)"
   ]
  },
  {
   "cell_type": "code",
   "execution_count": 1618,
   "metadata": {},
   "outputs": [
    {
     "name": "stdout",
     "output_type": "stream",
     "text": [
      "MAE: %2.01\n",
      "RMSE: % 2.61\n",
      "R²_score: %0.96\n"
     ]
    }
   ],
   "source": [
    "y_train_pred=grid_search.predict(X_train)\n",
    "print(f\"MAE: %{mean_absolute_error(Y_train,y_train_pred):.2f}\")\n",
    "print(f\"RMSE: % {np.sqrt(mean_squared_error(Y_train, y_train_pred)):.2f}\")\n",
    "print(f\"R²_score: %{r2_score(Y_train,y_train_pred):.2f}\")"
   ]
  },
  {
   "cell_type": "code",
   "execution_count": 1619,
   "metadata": {},
   "outputs": [
    {
     "name": "stdout",
     "output_type": "stream",
     "text": [
      "MAE: %4.06\n",
      "RMSE: % 5.48\n",
      "R²_score: %0.84\n"
     ]
    }
   ],
   "source": [
    "y_val_pred=grid_search.predict(X_val)\n",
    "print(f\"MAE: %{mean_absolute_error(Y_val,y_val_pred):.2f}\")\n",
    "print(f\"RMSE: % {np.sqrt(mean_squared_error(Y_val, y_val_pred)):.2f}\")\n",
    "print(f\"R²_score: %{r2_score(Y_val,y_val_pred):.2f}\")"
   ]
  }
 ],
 "metadata": {
  "kernelspec": {
   "display_name": "Python 3",
   "language": "python",
   "name": "python3"
  },
  "language_info": {
   "codemirror_mode": {
    "name": "ipython",
    "version": 3
   },
   "file_extension": ".py",
   "mimetype": "text/x-python",
   "name": "python",
   "nbconvert_exporter": "python",
   "pygments_lexer": "ipython3",
   "version": "3.13.0"
  }
 },
 "nbformat": 4,
 "nbformat_minor": 2
}
